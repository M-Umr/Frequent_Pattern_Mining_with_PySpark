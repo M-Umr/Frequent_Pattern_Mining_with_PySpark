{
  "nbformat": 4,
  "nbformat_minor": 0,
  "metadata": {
    "colab": {
      "provenance": [],
      "collapsed_sections": []
    },
    "kernelspec": {
      "name": "python3",
      "display_name": "Python 3"
    },
    "language_info": {
      "name": "python"
    },
    "gpuClass": "standard"
  },
  "cells": [
    {
      "cell_type": "code",
      "metadata": {
        "colab": {
          "base_uri": "https://localhost:8080/"
        },
        "id": "PzLwkf8vOdci",
        "outputId": "8fb9a32f-c250-45bd-9156-603768d24c63"
      },
      "source": [
        "# !pip install pyspark\n",
        "# !pip install -q findspark\n",
        "# !pip install pyspark-stubs\n",
        "# !pip install pyfpgrowth\n",
        "# !pip install modin[dask]"
      ],
      "execution_count": null,
      "outputs": [
        {
          "output_type": "stream",
          "name": "stdout",
          "text": [
            "Looking in indexes: https://pypi.org/simple, https://us-python.pkg.dev/colab-wheels/public/simple/\n",
            "Collecting pyspark\n",
            "  Downloading pyspark-3.3.1.tar.gz (281.4 MB)\n",
            "\u001b[K     |████████████████████████████████| 281.4 MB 39 kB/s \n",
            "\u001b[?25hCollecting py4j==0.10.9.5\n",
            "  Downloading py4j-0.10.9.5-py2.py3-none-any.whl (199 kB)\n",
            "\u001b[K     |████████████████████████████████| 199 kB 46.9 MB/s \n",
            "\u001b[?25hBuilding wheels for collected packages: pyspark\n",
            "  Building wheel for pyspark (setup.py) ... \u001b[?25l\u001b[?25hdone\n",
            "  Created wheel for pyspark: filename=pyspark-3.3.1-py2.py3-none-any.whl size=281845513 sha256=7fce6642ad8b87435c913e64f3cb8f41056ee74f50d7e13f74bc915099aa7180\n",
            "  Stored in directory: /root/.cache/pip/wheels/42/59/f5/79a5bf931714dcd201b26025347785f087370a10a3329a899c\n",
            "Successfully built pyspark\n",
            "Installing collected packages: py4j, pyspark\n",
            "Successfully installed py4j-0.10.9.5 pyspark-3.3.1\n",
            "Looking in indexes: https://pypi.org/simple, https://us-python.pkg.dev/colab-wheels/public/simple/\n",
            "Collecting pyspark-stubs\n",
            "  Downloading pyspark_stubs-3.0.0.post3-py3-none-any.whl (110 kB)\n",
            "\u001b[K     |████████████████████████████████| 110 kB 5.4 MB/s \n",
            "\u001b[?25hCollecting pyspark<3.1.0,>=3.0.0.dev0\n",
            "  Downloading pyspark-3.0.3.tar.gz (209.1 MB)\n",
            "\u001b[K     |████████████████████████████████| 209.1 MB 53 kB/s \n",
            "\u001b[?25hCollecting py4j==0.10.9\n",
            "  Downloading py4j-0.10.9-py2.py3-none-any.whl (198 kB)\n",
            "\u001b[K     |████████████████████████████████| 198 kB 11.9 MB/s \n",
            "\u001b[?25hBuilding wheels for collected packages: pyspark\n",
            "  Building wheel for pyspark (setup.py) ... \u001b[?25l\u001b[?25hdone\n",
            "  Created wheel for pyspark: filename=pyspark-3.0.3-py2.py3-none-any.whl size=209435971 sha256=6339d9f34299ca90294e03efcb03e1f1c7d48dadfb577cf01df723241f27b529\n",
            "  Stored in directory: /root/.cache/pip/wheels/7e/6d/0a/6b0bf301bc056d9af03194b732b9f49ad2fceb205aab2984fd\n",
            "Successfully built pyspark\n",
            "Installing collected packages: py4j, pyspark, pyspark-stubs\n",
            "  Attempting uninstall: py4j\n",
            "    Found existing installation: py4j 0.10.9.5\n",
            "    Uninstalling py4j-0.10.9.5:\n",
            "      Successfully uninstalled py4j-0.10.9.5\n",
            "  Attempting uninstall: pyspark\n",
            "    Found existing installation: pyspark 3.3.1\n",
            "    Uninstalling pyspark-3.3.1:\n",
            "      Successfully uninstalled pyspark-3.3.1\n",
            "Successfully installed py4j-0.10.9 pyspark-3.0.3 pyspark-stubs-3.0.0.post3\n",
            "Looking in indexes: https://pypi.org/simple, https://us-python.pkg.dev/colab-wheels/public/simple/\n",
            "Collecting pyfpgrowth\n",
            "  Downloading pyfpgrowth-1.0.tar.gz (1.6 MB)\n",
            "\u001b[K     |████████████████████████████████| 1.6 MB 4.7 MB/s \n",
            "\u001b[?25hBuilding wheels for collected packages: pyfpgrowth\n",
            "  Building wheel for pyfpgrowth (setup.py) ... \u001b[?25l\u001b[?25hdone\n",
            "  Created wheel for pyfpgrowth: filename=pyfpgrowth-1.0-py2.py3-none-any.whl size=5504 sha256=12716b16d2aab4c1c34df0d1fe0c3e2a5cc2062467093303046c8ef683b73a5a\n",
            "  Stored in directory: /root/.cache/pip/wheels/73/97/4b/f12ac994f6bbb99597396255435824c73ad3916be1e678be55\n",
            "Successfully built pyfpgrowth\n",
            "Installing collected packages: pyfpgrowth\n",
            "Successfully installed pyfpgrowth-1.0\n",
            "Looking in indexes: https://pypi.org/simple, https://us-python.pkg.dev/colab-wheels/public/simple/\n",
            "Collecting modin[dask]\n",
            "  Downloading modin-0.16.2-py3-none-any.whl (957 kB)\n",
            "\u001b[K     |████████████████████████████████| 957 kB 4.9 MB/s \n",
            "\u001b[?25hRequirement already satisfied: fsspec in /usr/local/lib/python3.7/dist-packages (from modin[dask]) (2022.10.0)\n",
            "  Downloading modin-0.16.1-py3-none-any.whl (956 kB)\n",
            "\u001b[K     |████████████████████████████████| 956 kB 37.1 MB/s \n",
            "\u001b[?25h  Downloading modin-0.16.0-py3-none-any.whl (956 kB)\n",
            "\u001b[K     |████████████████████████████████| 956 kB 47.3 MB/s \n",
            "\u001b[?25h  Downloading modin-0.12.1-py3-none-any.whl (761 kB)\n",
            "\u001b[K     |████████████████████████████████| 761 kB 42.3 MB/s \n",
            "\u001b[?25hRequirement already satisfied: pandas==1.3.5 in /usr/local/lib/python3.7/dist-packages (from modin[dask]) (1.3.5)\n",
            "Requirement already satisfied: numpy>=1.16.5 in /usr/local/lib/python3.7/dist-packages (from modin[dask]) (1.21.6)\n",
            "Requirement already satisfied: packaging in /usr/local/lib/python3.7/dist-packages (from modin[dask]) (21.3)\n",
            "Requirement already satisfied: dask>=2.22.0 in /usr/local/lib/python3.7/dist-packages (from modin[dask]) (2022.2.0)\n",
            "Requirement already satisfied: distributed>=2.22.0 in /usr/local/lib/python3.7/dist-packages (from modin[dask]) (2022.2.0)\n",
            "Requirement already satisfied: pytz>=2017.3 in /usr/local/lib/python3.7/dist-packages (from pandas==1.3.5->modin[dask]) (2022.5)\n",
            "Requirement already satisfied: python-dateutil>=2.7.3 in /usr/local/lib/python3.7/dist-packages (from pandas==1.3.5->modin[dask]) (2.8.2)\n",
            "Requirement already satisfied: cloudpickle>=1.1.1 in /usr/local/lib/python3.7/dist-packages (from dask>=2.22.0->modin[dask]) (1.5.0)\n",
            "Requirement already satisfied: partd>=0.3.10 in /usr/local/lib/python3.7/dist-packages (from dask>=2.22.0->modin[dask]) (1.3.0)\n",
            "Requirement already satisfied: pyyaml>=5.3.1 in /usr/local/lib/python3.7/dist-packages (from dask>=2.22.0->modin[dask]) (6.0)\n",
            "Requirement already satisfied: toolz>=0.8.2 in /usr/local/lib/python3.7/dist-packages (from dask>=2.22.0->modin[dask]) (0.12.0)\n",
            "Requirement already satisfied: sortedcontainers!=2.0.0,!=2.0.1 in /usr/local/lib/python3.7/dist-packages (from distributed>=2.22.0->modin[dask]) (2.4.0)\n",
            "Requirement already satisfied: click>=6.6 in /usr/local/lib/python3.7/dist-packages (from distributed>=2.22.0->modin[dask]) (7.1.2)\n",
            "Requirement already satisfied: tblib>=1.6.0 in /usr/local/lib/python3.7/dist-packages (from distributed>=2.22.0->modin[dask]) (1.7.0)\n",
            "Requirement already satisfied: setuptools in /usr/local/lib/python3.7/dist-packages (from distributed>=2.22.0->modin[dask]) (57.4.0)\n",
            "Requirement already satisfied: tornado>=5 in /usr/local/lib/python3.7/dist-packages (from distributed>=2.22.0->modin[dask]) (5.1.1)\n",
            "Requirement already satisfied: psutil>=5.0 in /usr/local/lib/python3.7/dist-packages (from distributed>=2.22.0->modin[dask]) (5.4.8)\n",
            "Requirement already satisfied: msgpack>=0.6.0 in /usr/local/lib/python3.7/dist-packages (from distributed>=2.22.0->modin[dask]) (1.0.4)\n",
            "Requirement already satisfied: zict>=0.1.3 in /usr/local/lib/python3.7/dist-packages (from distributed>=2.22.0->modin[dask]) (2.2.0)\n",
            "Requirement already satisfied: jinja2 in /usr/local/lib/python3.7/dist-packages (from distributed>=2.22.0->modin[dask]) (2.11.3)\n",
            "Requirement already satisfied: pyparsing!=3.0.5,>=2.0.2 in /usr/local/lib/python3.7/dist-packages (from packaging->modin[dask]) (3.0.9)\n",
            "Requirement already satisfied: locket in /usr/local/lib/python3.7/dist-packages (from partd>=0.3.10->dask>=2.22.0->modin[dask]) (1.0.0)\n",
            "Requirement already satisfied: six>=1.5 in /usr/local/lib/python3.7/dist-packages (from python-dateutil>=2.7.3->pandas==1.3.5->modin[dask]) (1.15.0)\n",
            "Requirement already satisfied: heapdict in /usr/local/lib/python3.7/dist-packages (from zict>=0.1.3->distributed>=2.22.0->modin[dask]) (1.0.1)\n",
            "Requirement already satisfied: MarkupSafe>=0.23 in /usr/local/lib/python3.7/dist-packages (from jinja2->distributed>=2.22.0->modin[dask]) (2.0.1)\n",
            "Installing collected packages: modin\n",
            "Successfully installed modin-0.12.1\n"
          ]
        }
      ]
    },
    {
      "cell_type": "code",
      "metadata": {
        "id": "5jOVH99QO4wn"
      },
      "source": [
        "import modin.pandas as pd\n",
        "import collections, numpy as np\n",
        "import matplotlib.pyplot as plt\n",
        "%matplotlib inline"
      ],
      "execution_count": null,
      "outputs": []
    },
    {
      "cell_type": "code",
      "metadata": {
        "id": "mvGLEiuzR3rS"
      },
      "source": [
        "from pyspark.ml.fpm import FPGrowth\n",
        "from pyspark.ml.fpm import PrefixSpan\n",
        "# $example off$\n",
        "from pyspark.sql import SparkSession,Row\n",
        "from pyspark.sql.types import *\n",
        "from pyspark.sql.functions import collect_set, col, count,explode,collect_list\n",
        "#import pyspark.sql.functions as F"
      ],
      "execution_count": null,
      "outputs": []
    },
    {
      "cell_type": "code",
      "metadata": {
        "id": "ZguP7J7uR3bQ"
      },
      "source": [
        "spark = SparkSession\\\n",
        ".builder\\\n",
        ".appName(\"FPGrowthExample\")\\\n",
        ".getOrCreate()"
      ],
      "execution_count": null,
      "outputs": []
    },
    {
      "cell_type": "code",
      "metadata": {
        "id": "dljJbl5tO4qR",
        "colab": {
          "base_uri": "https://localhost:8080/"
        },
        "outputId": "877f72f6-a6b4-4ca9-b93b-e6a46661d625"
      },
      "source": [
        "from google.colab import drive\n",
        "drive.mount('/content/drive')"
      ],
      "execution_count": null,
      "outputs": [
        {
          "output_type": "stream",
          "name": "stdout",
          "text": [
            "Mounted at /content/drive\n"
          ]
        }
      ]
    },
    {
      "cell_type": "code",
      "metadata": {
        "id": "cOis8e6RO4mB"
      },
      "source": [
        "allergy = \"/content/drive/MyDrive/Deep Learning/Frequent Pattern Mining/allergies.csv\"\n",
        "careplans = \"/content/drive/MyDrive/Deep Learning/Frequent Pattern Mining/careplans.csv\"\n",
        "claims = \"/content/drive/MyDrive/Deep Learning/Frequent Pattern Mining/claims.csv\"\n",
        "devices = \"/content/drive/MyDrive/Deep Learning/Frequent Pattern Mining/devices.csv\"\n",
        "encounters = \"/content/drive/MyDrive/Deep Learning/Frequent Pattern Mining/encounters.csv\"\n",
        "imaging_studies = \"/content/drive/MyDrive/Deep Learning/Frequent Pattern Mining/imaging_studies.csv\"\n",
        "immunuzation = \"/content/drive/MyDrive/Deep Learning/Frequent Pattern Mining/immunizations.csv\"\n",
        "medication = \"/content/drive/MyDrive/Deep Learning/Frequent Pattern Mining/medications.csv\"\n",
        "observation = \"/content/drive/MyDrive/Deep Learning/Frequent Pattern Mining/observations.csv\"\n",
        "organization = \"/content/drive/MyDrive/Deep Learning/Frequent Pattern Mining/organizations.csv\"\n",
        "patinet = \"/content/drive/MyDrive/Deep Learning/Frequent Pattern Mining/patients.csv\"\n",
        "payer_transaction = \"/content/drive/MyDrive/Deep Learning/Frequent Pattern Mining/payer_transitions.csv\"\n",
        "payers = \"/content/drive/MyDrive/Deep Learning/Frequent Pattern Mining/payers.csv\"\n",
        "procedure = \"/content/drive/MyDrive/Deep Learning/Frequent Pattern Mining/procedures.csv\"\n",
        "providers = \"/content/drive/MyDrive/Deep Learning/Frequent Pattern Mining/providers.csv\"\n",
        "supplies = \"/content/drive/MyDrive/Deep Learning/Frequent Pattern Mining/supplies.csv\"\n",
        "claim_transaction = \"/content/drive/MyDrive/Deep Learning/Frequent Pattern Mining/claims_transactions.csv\"\n",
        "condition = \"/content/drive/MyDrive/Deep Learning/Frequent Pattern Mining/conditions.csv\""
      ],
      "execution_count": null,
      "outputs": []
    },
    {
      "cell_type": "code",
      "metadata": {
        "id": "x26krjQcO4hL"
      },
      "source": [
        "allergy = (spark.read.format(\"csv\").options(header=\"true\").option(\"inferSchema\",\"true\").load(allergy))\n",
        "careplans = (spark.read.format(\"csv\").options(header=\"true\").option(\"inferSchema\",\"true\").load(careplans))\n",
        "claims = (spark.read.format(\"csv\").options(header=\"true\").option(\"inferSchema\",\"true\").load(claims))\n",
        "devices = (spark.read.format(\"csv\").options(header=\"true\").option(\"inferSchema\",\"true\").load(devices))\n",
        "encounters = (spark.read.format(\"csv\").options(header=\"true\").option(\"inferSchema\",\"true\").load(encounters))\n",
        "imaging_studies = (spark.read.format(\"csv\").options(header=\"true\").option(\"inferSchema\",\"true\").load(imaging_studies))\n",
        "immunuzation = (spark.read.format(\"csv\").options(header=\"true\").option(\"inferSchema\",\"true\").load(immunuzation))\n",
        "medication = (spark.read.format(\"csv\").options(header=\"true\").option(\"inferSchema\",\"true\").load(medication))\n",
        "observation = (spark.read.format(\"csv\").options(header=\"true\").option(\"inferSchema\",\"true\").load(observation))\n",
        "organization = (spark.read.format(\"csv\").options(header=\"true\").option(\"inferSchema\",\"true\").load(organization))\n",
        "patient = (spark.read.format(\"csv\").options(header=\"true\").option(\"inferSchema\",\"true\").load(patinet))\n",
        "payer_transaction = (spark.read.format(\"csv\").options(header=\"true\").option(\"inferSchema\",\"true\").load(payer_transaction))\n",
        "payers = (spark.read.format(\"csv\").options(header=\"true\").option(\"inferSchema\",\"true\").load(payers))\n",
        "procedure = (spark.read.format(\"csv\").options(header=\"true\").option(\"inferSchema\",\"true\").load(procedure))\n",
        "providers = (spark.read.format(\"csv\").options(header=\"true\").option(\"inferSchema\",\"true\").load(providers))\n",
        "supplies = (spark.read.format(\"csv\").options(header=\"true\").option(\"inferSchema\",\"true\").load(supplies))\n",
        "claim_transaction = (spark.read.format(\"csv\").options(header=\"true\").option(\"inferSchema\",\"true\").load(claim_transaction))\n",
        "condition = (spark.read.format(\"csv\").options(header=\"true\").option(\"inferSchema\",\"true\").load(condition))"
      ],
      "execution_count": null,
      "outputs": []
    },
    {
      "cell_type": "code",
      "metadata": {
        "id": "_FNmbCr0WroJ"
      },
      "source": [
        "allergy.createOrReplaceTempView(\"aller\")\n",
        "careplans.createOrReplaceTempView(\"carepla\")\n",
        "claims.createOrReplaceTempView(\"clai\")\n",
        "devices.createOrReplaceTempView(\"devic\")\n",
        "encounters.createOrReplaceTempView(\"encounte\")\n",
        "imaging_studies.createOrReplaceTempView(\"imging_studi\")\n",
        "immunuzation.createOrReplaceTempView(\"immunizati\")\n",
        "medication.createOrReplaceTempView(\"medicati\")\n",
        "observation.createOrReplaceTempView(\"observati\")\n",
        "organization.createOrReplaceTempView(\"organizati\")\n",
        "patient.createOrReplaceTempView(\"patie\")\n",
        "payer_transaction.createOrReplaceTempView(\"payer_transacti\")\n",
        "payers.createOrReplaceTempView(\"paye\")\n",
        "procedure.createOrReplaceTempView(\"procedu\")\n",
        "providers.createOrReplaceTempView(\"provide\")\n",
        "supplies.createOrReplaceTempView(\"suppli\")\n",
        "claim_transaction.createOrReplaceTempView(\"claim_transacti\")\n",
        "condition.createOrReplaceTempView(\"conditi\")"
      ],
      "execution_count": null,
      "outputs": []
    },
    {
      "cell_type": "code",
      "metadata": {
        "colab": {
          "base_uri": "https://localhost:8080/"
        },
        "id": "SRSmmIdHO4dW",
        "outputId": "dd544458-adfd-4341-d3be-6d60094ba064"
      },
      "source": [
        "pat_enco = spark.sql(\"select p.Id,p.FIRST,p.LAST,e.ENCOUNTERCLASS,e.TOTAL_CLAIM_COST from encounte e, patie p where p.Id == e.PATIENT\")\n",
        "#print(pat_data)\n",
        "print(pat_enco.schema.names)\n",
        "print(pat_enco.show())"
      ],
      "execution_count": null,
      "outputs": [
        {
          "output_type": "stream",
          "name": "stdout",
          "text": [
            "['Id', 'FIRST', 'LAST', 'ENCOUNTERCLASS', 'TOTAL_CLAIM_COST']\n",
            "+--------------------+----------+----------+--------------+----------------+\n",
            "|                  Id|     FIRST|      LAST|ENCOUNTERCLASS|TOTAL_CLAIM_COST|\n",
            "+--------------------+----------+----------+--------------+----------------+\n",
            "|9b5de0da-9c38-358...|Gwyneth692|   Koch169|      wellness|         1481.66|\n",
            "|231a2cb1-0ebe-dc1...|   Bill567|   Wolf938|      wellness|         1429.29|\n",
            "|34c9600a-6f70-b55...| Víctor493|Rentería94|     emergency|         9092.99|\n",
            "|231a2cb1-0ebe-dc1...|   Bill567|   Wolf938|      wellness|          786.33|\n",
            "|9b5de0da-9c38-358...|Gwyneth692|   Koch169|      wellness|          786.33|\n",
            "|9b5de0da-9c38-358...|Gwyneth692|   Koch169|      wellness|         1611.97|\n",
            "|9b5de0da-9c38-358...|Gwyneth692|   Koch169|      wellness|         1335.14|\n",
            "|9b5de0da-9c38-358...|Gwyneth692|   Koch169|      wellness|          786.33|\n",
            "|34c9600a-6f70-b55...| Víctor493|Rentería94|      wellness|          878.67|\n",
            "|9b5de0da-9c38-358...|Gwyneth692|   Koch169|    outpatient|          129.16|\n",
            "|9b5de0da-9c38-358...|Gwyneth692|   Koch169|    ambulatory|          2496.7|\n",
            "|9b5de0da-9c38-358...|Gwyneth692|   Koch169|      wellness|          1450.0|\n",
            "|231a2cb1-0ebe-dc1...|   Bill567|   Wolf938|    ambulatory|           77.49|\n",
            "|231a2cb1-0ebe-dc1...|   Bill567|   Wolf938|      wellness|         1513.08|\n",
            "|231a2cb1-0ebe-dc1...|   Bill567|   Wolf938|    ambulatory|           77.49|\n",
            "|231a2cb1-0ebe-dc1...|   Bill567|   Wolf938|     emergency|         13496.2|\n",
            "|231a2cb1-0ebe-dc1...|   Bill567|   Wolf938|    ambulatory|           77.49|\n",
            "|231a2cb1-0ebe-dc1...|   Bill567|   Wolf938|    outpatient|          218.01|\n",
            "|231a2cb1-0ebe-dc1...|   Bill567|   Wolf938|    ambulatory|           77.49|\n",
            "|231a2cb1-0ebe-dc1...|   Bill567|   Wolf938|      wellness|          786.33|\n",
            "+--------------------+----------+----------+--------------+----------------+\n",
            "only showing top 20 rows\n",
            "\n",
            "None\n"
          ]
        }
      ]
    },
    {
      "cell_type": "code",
      "metadata": {
        "colab": {
          "base_uri": "https://localhost:8080/"
        },
        "id": "iJlMC2FIZiAX",
        "outputId": "ee6d6b6a-3b52-4642-a4b5-0695c7bbc4b4"
      },
      "source": [
        "pat_enco_class = pat_enco.groupBy('Id').agg(collect_list(\"TOTAL_CLAIM_COST\").alias('TOTAL_CLAIM_COST'),collect_list(\"ENCOUNTERCLASS\").alias('ENCOUNTERCLASS'))\n",
        "pat_enco_class.createOrReplaceTempView('class1')\n",
        "print(pat_enco_class.count())\n",
        "pat_enco_class.show()"
      ],
      "execution_count": null,
      "outputs": [
        {
          "output_type": "stream",
          "name": "stdout",
          "text": [
            "6038\n",
            "+--------------------+--------------------+--------------------+\n",
            "|                  Id|    TOTAL_CLAIM_COST|      ENCOUNTERCLASS|\n",
            "+--------------------+--------------------+--------------------+\n",
            "|050a7653-46cc-4b7...|[1408.55, 786.33,...|[wellness, wellne...|\n",
            "|0b137dae-22a8-8f3...|[269.68, 791.04, ...|[wellness, wellne...|\n",
            "|0e3c545f-2be9-63f...|[1493.54, 77.49, ...|[wellness, ambula...|\n",
            "|17fbaf1c-1607-8c6...|[1511.12, 1462.86...|[wellness, wellne...|\n",
            "|1f245d1f-3474-10b...|[129.16, 9001.82,...|[emergency, inpat...|\n",
            "|231d9d40-9bff-9f1...|[77.49, 1207.19, ...|[ambulatory, well...|\n",
            "|49374c03-3a21-8dd...|[77.49, 786.33, 1...|[ambulatory, well...|\n",
            "|5792f730-1cb7-004...|[269.68, 1542.99,...|[wellness, wellne...|\n",
            "|7521adae-a41a-b57...|[77.49, 48683.23,...|[ambulatory, emer...|\n",
            "|7fdb3007-5d44-0c1...|[77.49, 77.49, 78...|[ambulatory, ambu...|\n",
            "|93538c7f-287e-1ef...|[77.49, 786.33, 1...|[ambulatory, well...|\n",
            "|9898cc43-82e7-adb...|[16461.74, 1162.4...|[emergency, emerg...|\n",
            "|9fa6922e-fa65-32e...|[269.68, 949.83, ...|[wellness, wellne...|\n",
            "|a23e7de2-1571-3bc...|[269.68, 269.68, ...|[wellness, wellne...|\n",
            "|bff182c2-96a7-839...|[1117.64, 1267.84...|[wellness, wellne...|\n",
            "|c5010808-c106-f4f...|[594.14, 786.33, ...|[ambulatory, well...|\n",
            "|d3cb0101-bc8e-44f...|[6529.36, 786.33,...|[ambulatory, well...|\n",
            "|1a576679-5063-ecb...|[594.14, 831.76, ...|[ambulatory, well...|\n",
            "|23fb32d0-64dc-6c0...|[77.49, 14572.46,...|[ambulatory, ambu...|\n",
            "|366ad69e-d8df-b2e...|[1178.01, 77.49, ...|[wellness, outpat...|\n",
            "+--------------------+--------------------+--------------------+\n",
            "only showing top 20 rows\n",
            "\n"
          ]
        }
      ]
    },
    {
      "cell_type": "code",
      "metadata": {
        "colab": {
          "base_uri": "https://localhost:8080/"
        },
        "id": "_pIeSh1hZhyP",
        "outputId": "e76b558a-ad99-46a9-8f88-d74f1952eeb2"
      },
      "source": [
        "pat_encoDF = pat_enco.select(\"*\").toPandas()\n",
        "print(pat_encoDF['TOTAL_CLAIM_COST'].isna().sum() )\n",
        "class1DF = pat_enco_class.select(\"*\").toPandas()\n",
        "print(pat_encoDF['TOTAL_CLAIM_COST'].isna().sum() )"
      ],
      "execution_count": null,
      "outputs": [
        {
          "output_type": "stream",
          "name": "stdout",
          "text": [
            "0\n",
            "0\n"
          ]
        }
      ]
    },
    {
      "cell_type": "code",
      "metadata": {
        "colab": {
          "base_uri": "https://localhost:8080/"
        },
        "id": "S50mGxw6Zhbw",
        "outputId": "fcdeea8e-16a2-4060-e5b6-8240d56c2383"
      },
      "source": [
        "pat1_class2 = pat_enco.groupBy('Id').agg(collect_set('ENCOUNTERCLASS').alias('items'))\n",
        "pat1_class2.createOrReplaceTempView('class2')\n",
        "print(pat1_class2.count())\n",
        "pat1_class2.show()"
      ],
      "execution_count": null,
      "outputs": [
        {
          "output_type": "stream",
          "name": "stdout",
          "text": [
            "6038\n",
            "+--------------------+--------------------+\n",
            "|                  Id|               items|\n",
            "+--------------------+--------------------+\n",
            "|050a7653-46cc-4b7...|[outpatient, well...|\n",
            "|0b137dae-22a8-8f3...|[outpatient, well...|\n",
            "|0e3c545f-2be9-63f...|[outpatient, well...|\n",
            "|17fbaf1c-1607-8c6...|[outpatient, well...|\n",
            "|1f245d1f-3474-10b...|[outpatient, well...|\n",
            "|231d9d40-9bff-9f1...|[outpatient, well...|\n",
            "|49374c03-3a21-8dd...|[outpatient, well...|\n",
            "|5792f730-1cb7-004...|[outpatient, well...|\n",
            "|7521adae-a41a-b57...|[outpatient, well...|\n",
            "|7fdb3007-5d44-0c1...|[outpatient, well...|\n",
            "|93538c7f-287e-1ef...|[outpatient, well...|\n",
            "|9898cc43-82e7-adb...|[outpatient, well...|\n",
            "|9fa6922e-fa65-32e...|[wellness, ambula...|\n",
            "|a23e7de2-1571-3bc...|[outpatient, well...|\n",
            "|bff182c2-96a7-839...|[outpatient, well...|\n",
            "|c5010808-c106-f4f...|[outpatient, well...|\n",
            "|d3cb0101-bc8e-44f...|[outpatient, well...|\n",
            "|1a576679-5063-ecb...|[outpatient, well...|\n",
            "|23fb32d0-64dc-6c0...|[outpatient, well...|\n",
            "|366ad69e-d8df-b2e...|[outpatient, well...|\n",
            "+--------------------+--------------------+\n",
            "only showing top 20 rows\n",
            "\n"
          ]
        }
      ]
    },
    {
      "cell_type": "code",
      "metadata": {
        "colab": {
          "base_uri": "https://localhost:8080/"
        },
        "id": "JEKRqHk4eaFo",
        "outputId": "95786173-bb40-4c10-8c0a-719be3a57a43"
      },
      "source": [
        "pat_Tcost = pat_enco.groupBy('Id').agg(collect_set('TOTAL_CLAIM_COST').alias('items'))\n",
        "pat_Tcost.createOrReplaceTempView('class3')\n",
        "print(pat_Tcost.count())\n",
        "pat_Tcost.show()"
      ],
      "execution_count": null,
      "outputs": [
        {
          "output_type": "stream",
          "name": "stdout",
          "text": [
            "6038\n",
            "+--------------------+--------------------+\n",
            "|                  Id|               items|\n",
            "+--------------------+--------------------+\n",
            "|050a7653-46cc-4b7...|[12521.3, 1521.0,...|\n",
            "|0b137dae-22a8-8f3...|[1565.25, 815.87,...|\n",
            "|0e3c545f-2be9-63f...|[0.0, 26896.11, 1...|\n",
            "|17fbaf1c-1607-8c6...|[1824.32, 77.49, ...|\n",
            "|1f245d1f-3474-10b...|[11111.05, 9720.7...|\n",
            "|231d9d40-9bff-9f1...|[8929.53, 26928.2...|\n",
            "|49374c03-3a21-8dd...|[1091.38, 1507.54...|\n",
            "|5792f730-1cb7-004...|[13190.2, 16307.2...|\n",
            "|7521adae-a41a-b57...|[1207.89, 2087.85...|\n",
            "|7fdb3007-5d44-0c1...|[1296.24, 2435.6,...|\n",
            "|93538c7f-287e-1ef...|[2832.36, 4186.14...|\n",
            "|9898cc43-82e7-adb...|[0.0, 20673.36, 1...|\n",
            "|9fa6922e-fa65-32e...|[1399.05, 714.05,...|\n",
            "|a23e7de2-1571-3bc...|[645.81, 18881.58...|\n",
            "|bff182c2-96a7-839...|[0.0, 17201.61, 1...|\n",
            "|c5010808-c106-f4f...|[1978.9, 66646.19...|\n",
            "|d3cb0101-bc8e-44f...|[1385.55, 129.16,...|\n",
            "|1a576679-5063-ecb...|[1809.58, 1678.17...|\n",
            "|23fb32d0-64dc-6c0...|[13864.83, 11204....|\n",
            "|366ad69e-d8df-b2e...|[1162.01, 1164.4,...|\n",
            "+--------------------+--------------------+\n",
            "only showing top 20 rows\n",
            "\n"
          ]
        }
      ]
    },
    {
      "cell_type": "code",
      "metadata": {
        "colab": {
          "base_uri": "https://localhost:8080/"
        },
        "id": "yDIrnDcAbhnt",
        "outputId": "6e841dd8-8823-4311-bc67-46c45e8fe3f6"
      },
      "source": [
        "#%scala\n",
        "%time\n",
        "from pyspark.ml.fpm import FPGrowth\n",
        "\n",
        "# Extract out the items \n",
        "class1_itemsDF = spark.sql(\"select c.items from class2 c\")\n",
        "################# IT IS SHOWING PREDICTED DATA OF TOTAL_CLAIM_COST\n",
        "\n",
        "# Use FPGrowth\n",
        "fpGrowth = FPGrowth(itemsCol=\"items\", minSupport=0.006, minConfidence=0.006)\n",
        "model = fpGrowth.fit(class1_itemsDF)\n",
        "# Display frequent itemsets.\n",
        "model.freqItemsets.show()\n",
        "mostPopularPatClass = model.freqItemsets\n",
        "\n",
        "model.associationRules\n",
        "rules_Encounter = model.associationRules\n",
        "#rules_TClaim_cost.show()  \n",
        "# transform examines the input items against all the association rules and summarize the\n",
        "# consequents as prediction\n",
        "model.transform(class1_itemsDF)#.show()\n",
        "rules_Encounter.createOrReplaceTempView(\"rules_TClaim_cost_table\")"
      ],
      "execution_count": null,
      "outputs": [
        {
          "output_type": "stream",
          "name": "stdout",
          "text": [
            "CPU times: user 4 µs, sys: 0 ns, total: 4 µs\n",
            "Wall time: 8.58 µs\n",
            "+--------------------+----+\n",
            "|               items|freq|\n",
            "+--------------------+----+\n",
            "|          [wellness]|6031|\n",
            "|        [ambulatory]|5949|\n",
            "|[ambulatory, well...|5942|\n",
            "|        [outpatient]|5111|\n",
            "|[outpatient, ambu...|5089|\n",
            "|[outpatient, ambu...|5082|\n",
            "|[outpatient, well...|5104|\n",
            "|         [emergency]|4370|\n",
            "|[emergency, outpa...|3829|\n",
            "|[emergency, outpa...|3822|\n",
            "|[emergency, outpa...|3816|\n",
            "|[emergency, outpa...|3823|\n",
            "|[emergency, ambul...|4351|\n",
            "|[emergency, ambul...|4345|\n",
            "|[emergency, welln...|4364|\n",
            "|         [inpatient]|2138|\n",
            "|[inpatient, outpa...|1933|\n",
            "|[inpatient, outpa...|1933|\n",
            "|[inpatient, outpa...|1931|\n",
            "|[inpatient, outpa...|1931|\n",
            "+--------------------+----+\n",
            "only showing top 20 rows\n",
            "\n"
          ]
        }
      ]
    },
    {
      "cell_type": "code",
      "metadata": {
        "colab": {
          "base_uri": "https://localhost:8080/"
        },
        "id": "a_bnsuYmbhbM",
        "outputId": "c0cf140a-753d-4a72-c819-9a07d0c7ebe6"
      },
      "source": [
        "#%scala\n",
        "%time\n",
        "from pyspark.ml.fpm import FPGrowth\n",
        "\n",
        "####################### IT IS SHOWING PREDICTED DATA OF ENCOUNTERCLASS\n",
        "\n",
        "# Extract out the items \n",
        "class1_itemsDF = spark.sql(\"select items from class3\")#.as[Array[String]].toDF(\"items\")\n",
        "\n",
        "# Use FPGrowth\n",
        "fpGrowth = FPGrowth(itemsCol=\"items\", minSupport=0.006, minConfidence=0.006)\n",
        "model = fpGrowth.fit(class1_itemsDF)\n",
        "# Display frequent itemsets.\n",
        "model.freqItemsets.show()\n",
        "mostPopularPatClass = model.freqItemsets\n",
        "\n",
        "model.associationRules\n",
        "rules_TClaim = model.associationRules\n",
        "#rules_data.show()\n",
        "\n",
        "# transform examines the input items against all the association rules and summarize the\n",
        "# consequents as prediction\n",
        "model.transform(class1_itemsDF)\n",
        "rules_TClaim.createOrReplaceTempView(\"rule_table\")"
      ],
      "execution_count": null,
      "outputs": [
        {
          "output_type": "stream",
          "name": "stdout",
          "text": [
            "CPU times: user 3 µs, sys: 0 ns, total: 3 µs\n",
            "Wall time: 6.91 µs\n",
            "+--------------------+----+\n",
            "|               items|freq|\n",
            "+--------------------+----+\n",
            "|             [77.49]|5815|\n",
            "|            [786.33]|5106|\n",
            "|     [786.33, 77.49]|5006|\n",
            "|            [129.16]|4154|\n",
            "|    [129.16, 786.33]|3472|\n",
            "|[129.16, 786.33, ...|3415|\n",
            "|     [129.16, 77.49]|4039|\n",
            "|            [926.85]|3844|\n",
            "|    [926.85, 129.16]|2580|\n",
            "|[926.85, 129.16, ...|2491|\n",
            "|[926.85, 129.16, ...|2453|\n",
            "|[926.85, 129.16, ...|2539|\n",
            "|    [926.85, 786.33]|3701|\n",
            "|[926.85, 786.33, ...|3633|\n",
            "|     [926.85, 77.49]|3771|\n",
            "|            [269.68]|3018|\n",
            "|    [269.68, 129.16]|2300|\n",
            "|[269.68, 129.16, ...|1683|\n",
            "|[269.68, 129.16, ...|1663|\n",
            "|[269.68, 129.16, ...|2232|\n",
            "+--------------------+----+\n",
            "only showing top 20 rows\n",
            "\n"
          ]
        }
      ]
    },
    {
      "cell_type": "code",
      "metadata": {
        "colab": {
          "base_uri": "https://localhost:8080/"
        },
        "id": "Nehb705ZbhO2",
        "outputId": "8362ab58-949b-44f0-aec8-728bacd3246d"
      },
      "source": [
        "rulesDF1 = rules_Encounter.select(\"*\").toPandas()\n",
        "rulesDF1.head()\n",
        "rulesDF1.shape"
      ],
      "execution_count": null,
      "outputs": [
        {
          "output_type": "execute_result",
          "data": {
            "text/plain": [
              "(186, 4)"
            ]
          },
          "metadata": {},
          "execution_count": 16
        }
      ]
    },
    {
      "cell_type": "code",
      "metadata": {
        "colab": {
          "base_uri": "https://localhost:8080/",
          "height": 424
        },
        "id": "C1GHVpxVbhBZ",
        "outputId": "5b586447-cc9f-4416-9513-23dcc945d068"
      },
      "source": [
        "rulesDF1[rulesDF1[\"antecedent\"].apply(lambda x: \"urgentcare\" in str(x))].sort_values(ascending=False,by='lift')"
      ],
      "execution_count": null,
      "outputs": [
        {
          "output_type": "execute_result",
          "data": {
            "text/plain": [
              "                                            antecedent   consequent  \\\n",
              "85   [urgentcare, emergency, outpatient, ambulatory...  [inpatient]   \n",
              "12       [urgentcare, emergency, outpatient, wellness]  [inpatient]   \n",
              "150                [urgentcare, emergency, outpatient]  [inpatient]   \n",
              "16     [urgentcare, emergency, outpatient, ambulatory]  [inpatient]   \n",
              "68                 [urgentcare, emergency, ambulatory]  [inpatient]   \n",
              "..                                                 ...          ...   \n",
              "58                            [urgentcare, ambulatory]   [wellness]   \n",
              "124  [urgentcare, inpatient, emergency, outpatient,...   [wellness]   \n",
              "122                [urgentcare, inpatient, outpatient]   [wellness]   \n",
              "70                 [urgentcare, emergency, ambulatory]   [wellness]   \n",
              "177                 [urgentcare, inpatient, emergency]   [wellness]   \n",
              "\n",
              "     confidence      lift  \n",
              "85     0.485385  1.370792  \n",
              "12     0.485385  1.370792  \n",
              "150    0.485385  1.370792  \n",
              "16     0.485385  1.370792  \n",
              "68     0.475983  1.344239  \n",
              "..          ...       ...  \n",
              "58     1.000000  1.001161  \n",
              "124    1.000000  1.001161  \n",
              "122    1.000000  1.001161  \n",
              "70     1.000000  1.001161  \n",
              "177    1.000000  1.001161  \n",
              "\n",
              "[80 rows x 4 columns]"
            ],
            "text/html": [
              "\n",
              "  <div id=\"df-cdf069da-6822-44d2-8058-cb505c14bc92\">\n",
              "    <div class=\"colab-df-container\">\n",
              "      <div>\n",
              "<style scoped>\n",
              "    .dataframe tbody tr th:only-of-type {\n",
              "        vertical-align: middle;\n",
              "    }\n",
              "\n",
              "    .dataframe tbody tr th {\n",
              "        vertical-align: top;\n",
              "    }\n",
              "\n",
              "    .dataframe thead th {\n",
              "        text-align: right;\n",
              "    }\n",
              "</style>\n",
              "<table border=\"1\" class=\"dataframe\">\n",
              "  <thead>\n",
              "    <tr style=\"text-align: right;\">\n",
              "      <th></th>\n",
              "      <th>antecedent</th>\n",
              "      <th>consequent</th>\n",
              "      <th>confidence</th>\n",
              "      <th>lift</th>\n",
              "    </tr>\n",
              "  </thead>\n",
              "  <tbody>\n",
              "    <tr>\n",
              "      <th>85</th>\n",
              "      <td>[urgentcare, emergency, outpatient, ambulatory...</td>\n",
              "      <td>[inpatient]</td>\n",
              "      <td>0.485385</td>\n",
              "      <td>1.370792</td>\n",
              "    </tr>\n",
              "    <tr>\n",
              "      <th>12</th>\n",
              "      <td>[urgentcare, emergency, outpatient, wellness]</td>\n",
              "      <td>[inpatient]</td>\n",
              "      <td>0.485385</td>\n",
              "      <td>1.370792</td>\n",
              "    </tr>\n",
              "    <tr>\n",
              "      <th>150</th>\n",
              "      <td>[urgentcare, emergency, outpatient]</td>\n",
              "      <td>[inpatient]</td>\n",
              "      <td>0.485385</td>\n",
              "      <td>1.370792</td>\n",
              "    </tr>\n",
              "    <tr>\n",
              "      <th>16</th>\n",
              "      <td>[urgentcare, emergency, outpatient, ambulatory]</td>\n",
              "      <td>[inpatient]</td>\n",
              "      <td>0.485385</td>\n",
              "      <td>1.370792</td>\n",
              "    </tr>\n",
              "    <tr>\n",
              "      <th>68</th>\n",
              "      <td>[urgentcare, emergency, ambulatory]</td>\n",
              "      <td>[inpatient]</td>\n",
              "      <td>0.475983</td>\n",
              "      <td>1.344239</td>\n",
              "    </tr>\n",
              "    <tr>\n",
              "      <th>...</th>\n",
              "      <td>...</td>\n",
              "      <td>...</td>\n",
              "      <td>...</td>\n",
              "      <td>...</td>\n",
              "    </tr>\n",
              "    <tr>\n",
              "      <th>58</th>\n",
              "      <td>[urgentcare, ambulatory]</td>\n",
              "      <td>[wellness]</td>\n",
              "      <td>1.000000</td>\n",
              "      <td>1.001161</td>\n",
              "    </tr>\n",
              "    <tr>\n",
              "      <th>124</th>\n",
              "      <td>[urgentcare, inpatient, emergency, outpatient,...</td>\n",
              "      <td>[wellness]</td>\n",
              "      <td>1.000000</td>\n",
              "      <td>1.001161</td>\n",
              "    </tr>\n",
              "    <tr>\n",
              "      <th>122</th>\n",
              "      <td>[urgentcare, inpatient, outpatient]</td>\n",
              "      <td>[wellness]</td>\n",
              "      <td>1.000000</td>\n",
              "      <td>1.001161</td>\n",
              "    </tr>\n",
              "    <tr>\n",
              "      <th>70</th>\n",
              "      <td>[urgentcare, emergency, ambulatory]</td>\n",
              "      <td>[wellness]</td>\n",
              "      <td>1.000000</td>\n",
              "      <td>1.001161</td>\n",
              "    </tr>\n",
              "    <tr>\n",
              "      <th>177</th>\n",
              "      <td>[urgentcare, inpatient, emergency]</td>\n",
              "      <td>[wellness]</td>\n",
              "      <td>1.000000</td>\n",
              "      <td>1.001161</td>\n",
              "    </tr>\n",
              "  </tbody>\n",
              "</table>\n",
              "<p>80 rows × 4 columns</p>\n",
              "</div>\n",
              "      <button class=\"colab-df-convert\" onclick=\"convertToInteractive('df-cdf069da-6822-44d2-8058-cb505c14bc92')\"\n",
              "              title=\"Convert this dataframe to an interactive table.\"\n",
              "              style=\"display:none;\">\n",
              "        \n",
              "  <svg xmlns=\"http://www.w3.org/2000/svg\" height=\"24px\"viewBox=\"0 0 24 24\"\n",
              "       width=\"24px\">\n",
              "    <path d=\"M0 0h24v24H0V0z\" fill=\"none\"/>\n",
              "    <path d=\"M18.56 5.44l.94 2.06.94-2.06 2.06-.94-2.06-.94-.94-2.06-.94 2.06-2.06.94zm-11 1L8.5 8.5l.94-2.06 2.06-.94-2.06-.94L8.5 2.5l-.94 2.06-2.06.94zm10 10l.94 2.06.94-2.06 2.06-.94-2.06-.94-.94-2.06-.94 2.06-2.06.94z\"/><path d=\"M17.41 7.96l-1.37-1.37c-.4-.4-.92-.59-1.43-.59-.52 0-1.04.2-1.43.59L10.3 9.45l-7.72 7.72c-.78.78-.78 2.05 0 2.83L4 21.41c.39.39.9.59 1.41.59.51 0 1.02-.2 1.41-.59l7.78-7.78 2.81-2.81c.8-.78.8-2.07 0-2.86zM5.41 20L4 18.59l7.72-7.72 1.47 1.35L5.41 20z\"/>\n",
              "  </svg>\n",
              "      </button>\n",
              "      \n",
              "  <style>\n",
              "    .colab-df-container {\n",
              "      display:flex;\n",
              "      flex-wrap:wrap;\n",
              "      gap: 12px;\n",
              "    }\n",
              "\n",
              "    .colab-df-convert {\n",
              "      background-color: #E8F0FE;\n",
              "      border: none;\n",
              "      border-radius: 50%;\n",
              "      cursor: pointer;\n",
              "      display: none;\n",
              "      fill: #1967D2;\n",
              "      height: 32px;\n",
              "      padding: 0 0 0 0;\n",
              "      width: 32px;\n",
              "    }\n",
              "\n",
              "    .colab-df-convert:hover {\n",
              "      background-color: #E2EBFA;\n",
              "      box-shadow: 0px 1px 2px rgba(60, 64, 67, 0.3), 0px 1px 3px 1px rgba(60, 64, 67, 0.15);\n",
              "      fill: #174EA6;\n",
              "    }\n",
              "\n",
              "    [theme=dark] .colab-df-convert {\n",
              "      background-color: #3B4455;\n",
              "      fill: #D2E3FC;\n",
              "    }\n",
              "\n",
              "    [theme=dark] .colab-df-convert:hover {\n",
              "      background-color: #434B5C;\n",
              "      box-shadow: 0px 1px 3px 1px rgba(0, 0, 0, 0.15);\n",
              "      filter: drop-shadow(0px 1px 2px rgba(0, 0, 0, 0.3));\n",
              "      fill: #FFFFFF;\n",
              "    }\n",
              "  </style>\n",
              "\n",
              "      <script>\n",
              "        const buttonEl =\n",
              "          document.querySelector('#df-cdf069da-6822-44d2-8058-cb505c14bc92 button.colab-df-convert');\n",
              "        buttonEl.style.display =\n",
              "          google.colab.kernel.accessAllowed ? 'block' : 'none';\n",
              "\n",
              "        async function convertToInteractive(key) {\n",
              "          const element = document.querySelector('#df-cdf069da-6822-44d2-8058-cb505c14bc92');\n",
              "          const dataTable =\n",
              "            await google.colab.kernel.invokeFunction('convertToInteractive',\n",
              "                                                     [key], {});\n",
              "          if (!dataTable) return;\n",
              "\n",
              "          const docLinkHtml = 'Like what you see? Visit the ' +\n",
              "            '<a target=\"_blank\" href=https://colab.research.google.com/notebooks/data_table.ipynb>data table notebook</a>'\n",
              "            + ' to learn more about interactive tables.';\n",
              "          element.innerHTML = '';\n",
              "          dataTable['output_type'] = 'display_data';\n",
              "          await google.colab.output.renderOutput(dataTable, element);\n",
              "          const docLink = document.createElement('div');\n",
              "          docLink.innerHTML = docLinkHtml;\n",
              "          element.appendChild(docLink);\n",
              "        }\n",
              "      </script>\n",
              "    </div>\n",
              "  </div>\n",
              "  "
            ]
          },
          "metadata": {},
          "execution_count": 17
        }
      ]
    },
    {
      "cell_type": "code",
      "metadata": {
        "colab": {
          "base_uri": "https://localhost:8080/"
        },
        "id": "QZsa70wEfpO-",
        "outputId": "2fe1ff86-672c-4ddf-fcb1-361debacfba3"
      },
      "source": [
        "rulesTC_cost = rules_TClaim.select(\"*\").toPandas()\n",
        "rulesTC_cost.head()\n",
        "rulesTC_cost.shape"
      ],
      "execution_count": null,
      "outputs": [
        {
          "output_type": "execute_result",
          "data": {
            "text/plain": [
              "(15399, 4)"
            ]
          },
          "metadata": {},
          "execution_count": 18
        }
      ]
    },
    {
      "cell_type": "code",
      "metadata": {
        "colab": {
          "base_uri": "https://localhost:8080/",
          "height": 424
        },
        "id": "fpeY_31mfr5Y",
        "outputId": "b85aa0c1-c4de-4f85-e7eb-543478330c13"
      },
      "source": [
        "rulesTC_cost[rulesTC_cost[\"antecedent\"].apply(lambda x: \"926.85\" in str(x))].sort_values(ascending=False,by='lift')"
      ],
      "execution_count": null,
      "outputs": [
        {
          "output_type": "execute_result",
          "data": {
            "text/plain": [
              "                                            antecedent consequent  confidence  \\\n",
              "1757                   [831.76, 269.68, 926.85, 77.49]   [691.24]    0.533333   \n",
              "892                           [831.76, 269.68, 926.85]   [691.24]    0.532468   \n",
              "14866                          [831.76, 926.85, 77.49]   [691.24]    0.526316   \n",
              "11560                                 [831.76, 926.85]   [691.24]    0.525641   \n",
              "15365  [594.14, 269.68, 926.85, 129.16, 786.33, 77.49]   [550.72]    0.069643   \n",
              "...                                                ...        ...         ...   \n",
              "5046                   [218.01, 926.85, 786.33, 77.49]   [691.24]    0.025739   \n",
              "8617                                  [926.85, 129.16]   [831.76]    0.021705   \n",
              "12125                          [926.85, 129.16, 77.49]   [831.76]    0.021268   \n",
              "9617                                          [926.85]   [831.76]    0.020291   \n",
              "2321                                   [926.85, 77.49]   [831.76]    0.020154   \n",
              "\n",
              "           lift  \n",
              "1757   7.046535  \n",
              "892    7.035096  \n",
              "14866  6.953818  \n",
              "11560  6.944903  \n",
              "15365  3.391158  \n",
              "...         ...  \n",
              "5046   0.340074  \n",
              "8617   0.185634  \n",
              "12125  0.181894  \n",
              "9617   0.173540  \n",
              "2321   0.172364  \n",
              "\n",
              "[6103 rows x 4 columns]"
            ],
            "text/html": [
              "\n",
              "  <div id=\"df-781e1cdc-0980-4aa2-9938-66073cb64b95\">\n",
              "    <div class=\"colab-df-container\">\n",
              "      <div>\n",
              "<style scoped>\n",
              "    .dataframe tbody tr th:only-of-type {\n",
              "        vertical-align: middle;\n",
              "    }\n",
              "\n",
              "    .dataframe tbody tr th {\n",
              "        vertical-align: top;\n",
              "    }\n",
              "\n",
              "    .dataframe thead th {\n",
              "        text-align: right;\n",
              "    }\n",
              "</style>\n",
              "<table border=\"1\" class=\"dataframe\">\n",
              "  <thead>\n",
              "    <tr style=\"text-align: right;\">\n",
              "      <th></th>\n",
              "      <th>antecedent</th>\n",
              "      <th>consequent</th>\n",
              "      <th>confidence</th>\n",
              "      <th>lift</th>\n",
              "    </tr>\n",
              "  </thead>\n",
              "  <tbody>\n",
              "    <tr>\n",
              "      <th>1757</th>\n",
              "      <td>[831.76, 269.68, 926.85, 77.49]</td>\n",
              "      <td>[691.24]</td>\n",
              "      <td>0.533333</td>\n",
              "      <td>7.046535</td>\n",
              "    </tr>\n",
              "    <tr>\n",
              "      <th>892</th>\n",
              "      <td>[831.76, 269.68, 926.85]</td>\n",
              "      <td>[691.24]</td>\n",
              "      <td>0.532468</td>\n",
              "      <td>7.035096</td>\n",
              "    </tr>\n",
              "    <tr>\n",
              "      <th>14866</th>\n",
              "      <td>[831.76, 926.85, 77.49]</td>\n",
              "      <td>[691.24]</td>\n",
              "      <td>0.526316</td>\n",
              "      <td>6.953818</td>\n",
              "    </tr>\n",
              "    <tr>\n",
              "      <th>11560</th>\n",
              "      <td>[831.76, 926.85]</td>\n",
              "      <td>[691.24]</td>\n",
              "      <td>0.525641</td>\n",
              "      <td>6.944903</td>\n",
              "    </tr>\n",
              "    <tr>\n",
              "      <th>15365</th>\n",
              "      <td>[594.14, 269.68, 926.85, 129.16, 786.33, 77.49]</td>\n",
              "      <td>[550.72]</td>\n",
              "      <td>0.069643</td>\n",
              "      <td>3.391158</td>\n",
              "    </tr>\n",
              "    <tr>\n",
              "      <th>...</th>\n",
              "      <td>...</td>\n",
              "      <td>...</td>\n",
              "      <td>...</td>\n",
              "      <td>...</td>\n",
              "    </tr>\n",
              "    <tr>\n",
              "      <th>5046</th>\n",
              "      <td>[218.01, 926.85, 786.33, 77.49]</td>\n",
              "      <td>[691.24]</td>\n",
              "      <td>0.025739</td>\n",
              "      <td>0.340074</td>\n",
              "    </tr>\n",
              "    <tr>\n",
              "      <th>8617</th>\n",
              "      <td>[926.85, 129.16]</td>\n",
              "      <td>[831.76]</td>\n",
              "      <td>0.021705</td>\n",
              "      <td>0.185634</td>\n",
              "    </tr>\n",
              "    <tr>\n",
              "      <th>12125</th>\n",
              "      <td>[926.85, 129.16, 77.49]</td>\n",
              "      <td>[831.76]</td>\n",
              "      <td>0.021268</td>\n",
              "      <td>0.181894</td>\n",
              "    </tr>\n",
              "    <tr>\n",
              "      <th>9617</th>\n",
              "      <td>[926.85]</td>\n",
              "      <td>[831.76]</td>\n",
              "      <td>0.020291</td>\n",
              "      <td>0.173540</td>\n",
              "    </tr>\n",
              "    <tr>\n",
              "      <th>2321</th>\n",
              "      <td>[926.85, 77.49]</td>\n",
              "      <td>[831.76]</td>\n",
              "      <td>0.020154</td>\n",
              "      <td>0.172364</td>\n",
              "    </tr>\n",
              "  </tbody>\n",
              "</table>\n",
              "<p>6103 rows × 4 columns</p>\n",
              "</div>\n",
              "      <button class=\"colab-df-convert\" onclick=\"convertToInteractive('df-781e1cdc-0980-4aa2-9938-66073cb64b95')\"\n",
              "              title=\"Convert this dataframe to an interactive table.\"\n",
              "              style=\"display:none;\">\n",
              "        \n",
              "  <svg xmlns=\"http://www.w3.org/2000/svg\" height=\"24px\"viewBox=\"0 0 24 24\"\n",
              "       width=\"24px\">\n",
              "    <path d=\"M0 0h24v24H0V0z\" fill=\"none\"/>\n",
              "    <path d=\"M18.56 5.44l.94 2.06.94-2.06 2.06-.94-2.06-.94-.94-2.06-.94 2.06-2.06.94zm-11 1L8.5 8.5l.94-2.06 2.06-.94-2.06-.94L8.5 2.5l-.94 2.06-2.06.94zm10 10l.94 2.06.94-2.06 2.06-.94-2.06-.94-.94-2.06-.94 2.06-2.06.94z\"/><path d=\"M17.41 7.96l-1.37-1.37c-.4-.4-.92-.59-1.43-.59-.52 0-1.04.2-1.43.59L10.3 9.45l-7.72 7.72c-.78.78-.78 2.05 0 2.83L4 21.41c.39.39.9.59 1.41.59.51 0 1.02-.2 1.41-.59l7.78-7.78 2.81-2.81c.8-.78.8-2.07 0-2.86zM5.41 20L4 18.59l7.72-7.72 1.47 1.35L5.41 20z\"/>\n",
              "  </svg>\n",
              "      </button>\n",
              "      \n",
              "  <style>\n",
              "    .colab-df-container {\n",
              "      display:flex;\n",
              "      flex-wrap:wrap;\n",
              "      gap: 12px;\n",
              "    }\n",
              "\n",
              "    .colab-df-convert {\n",
              "      background-color: #E8F0FE;\n",
              "      border: none;\n",
              "      border-radius: 50%;\n",
              "      cursor: pointer;\n",
              "      display: none;\n",
              "      fill: #1967D2;\n",
              "      height: 32px;\n",
              "      padding: 0 0 0 0;\n",
              "      width: 32px;\n",
              "    }\n",
              "\n",
              "    .colab-df-convert:hover {\n",
              "      background-color: #E2EBFA;\n",
              "      box-shadow: 0px 1px 2px rgba(60, 64, 67, 0.3), 0px 1px 3px 1px rgba(60, 64, 67, 0.15);\n",
              "      fill: #174EA6;\n",
              "    }\n",
              "\n",
              "    [theme=dark] .colab-df-convert {\n",
              "      background-color: #3B4455;\n",
              "      fill: #D2E3FC;\n",
              "    }\n",
              "\n",
              "    [theme=dark] .colab-df-convert:hover {\n",
              "      background-color: #434B5C;\n",
              "      box-shadow: 0px 1px 3px 1px rgba(0, 0, 0, 0.15);\n",
              "      filter: drop-shadow(0px 1px 2px rgba(0, 0, 0, 0.3));\n",
              "      fill: #FFFFFF;\n",
              "    }\n",
              "  </style>\n",
              "\n",
              "      <script>\n",
              "        const buttonEl =\n",
              "          document.querySelector('#df-781e1cdc-0980-4aa2-9938-66073cb64b95 button.colab-df-convert');\n",
              "        buttonEl.style.display =\n",
              "          google.colab.kernel.accessAllowed ? 'block' : 'none';\n",
              "\n",
              "        async function convertToInteractive(key) {\n",
              "          const element = document.querySelector('#df-781e1cdc-0980-4aa2-9938-66073cb64b95');\n",
              "          const dataTable =\n",
              "            await google.colab.kernel.invokeFunction('convertToInteractive',\n",
              "                                                     [key], {});\n",
              "          if (!dataTable) return;\n",
              "\n",
              "          const docLinkHtml = 'Like what you see? Visit the ' +\n",
              "            '<a target=\"_blank\" href=https://colab.research.google.com/notebooks/data_table.ipynb>data table notebook</a>'\n",
              "            + ' to learn more about interactive tables.';\n",
              "          element.innerHTML = '';\n",
              "          dataTable['output_type'] = 'display_data';\n",
              "          await google.colab.output.renderOutput(dataTable, element);\n",
              "          const docLink = document.createElement('div');\n",
              "          docLink.innerHTML = docLinkHtml;\n",
              "          element.appendChild(docLink);\n",
              "        }\n",
              "      </script>\n",
              "    </div>\n",
              "  </div>\n",
              "  "
            ]
          },
          "metadata": {},
          "execution_count": 19
        }
      ]
    },
    {
      "cell_type": "code",
      "metadata": {
        "colab": {
          "base_uri": "https://localhost:8080/"
        },
        "id": "kVLeAWlkfuD2",
        "outputId": "4f262e65-a36d-4db4-e2e0-db54c2d40b6e"
      },
      "source": [
        "dataframe = pd.concat([rulesTC_cost, rulesDF1], axis=0)"
      ],
      "execution_count": null,
      "outputs": [
        {
          "output_type": "stream",
          "name": "stderr",
          "text": [
            "UserWarning: Dask execution environment not yet initialized. Initializing...\n",
            "To remove this warning, run the following python code before doing dataframe operations:\n",
            "\n",
            "    from distributed import Client\n",
            "\n",
            "    client = Client()\n",
            "\n",
            "UserWarning: Distributing <class 'pandas.core.frame.DataFrame'> object. This may take some time.\n"
          ]
        }
      ]
    },
    {
      "cell_type": "code",
      "metadata": {
        "colab": {
          "base_uri": "https://localhost:8080/"
        },
        "id": "XOHACuOXfvUO",
        "outputId": "480ff431-1dfc-48e4-96d3-dc9e62987ed3"
      },
      "source": [
        "dataframe.iloc[15398,:]"
      ],
      "execution_count": null,
      "outputs": [
        {
          "output_type": "execute_result",
          "data": {
            "text/plain": [
              "antecedent    [1067.37, 1162.46, 269.68, 129.16, 786.33, 77.49]\n",
              "consequent                                             [645.81]\n",
              "confidence                                             0.727273\n",
              "lift                                                   1.728167\n",
              "Name: 15398, dtype: object"
            ]
          },
          "metadata": {},
          "execution_count": 21
        }
      ]
    },
    {
      "cell_type": "code",
      "metadata": {
        "id": "XrXCVGpQO4Zu",
        "colab": {
          "base_uri": "https://localhost:8080/"
        },
        "outputId": "3f854dc6-9dfb-4c92-da11-100f62127de9"
      },
      "source": [
        "pat_alg = spark.sql(\"select p.Id, alg.DESCRIPTION from aller alg, patie p where p.Id == alg.PATIENT\")\n",
        "pat_alg.show()"
      ],
      "execution_count": null,
      "outputs": [
        {
          "output_type": "stream",
          "name": "stdout",
          "text": [
            "+--------------------+--------------------+\n",
            "|                  Id|         DESCRIPTION|\n",
            "+--------------------+--------------------+\n",
            "|1e2b4480-645f-f03...|Bee venom (substa...|\n",
            "|1e2b4480-645f-f03...|     Mold (organism)|\n",
            "|1e2b4480-645f-f03...|House dust mite (...|\n",
            "|1e2b4480-645f-f03...|Animal dander (su...|\n",
            "|1e2b4480-645f-f03...|Grass pollen (sub...|\n",
            "|1e2b4480-645f-f03...|Tree pollen (subs...|\n",
            "|1e2b4480-645f-f03...|             Aspirin|\n",
            "|1e2b4480-645f-f03...|Eggs (edible) (su...|\n",
            "|1e2b4480-645f-f03...|   Wheat (substance)|\n",
            "|1e2b4480-645f-f03...|    Fish (substance)|\n",
            "|63a4ee1d-0a99-792...|Shellfish (substa...|\n",
            "|cf323fd4-a173-ae6...|             Aspirin|\n",
            "|e363961e-e69e-66d...|   Latex (substance)|\n",
            "|e363961e-e69e-66d...|     Mold (organism)|\n",
            "|e363961e-e69e-66d...|Animal dander (su...|\n",
            "|e363961e-e69e-66d...|Grass pollen (sub...|\n",
            "|e363961e-e69e-66d...|Tree pollen (subs...|\n",
            "|e363961e-e69e-66d...|            cefdinir|\n",
            "|e363961e-e69e-66d...|        Penicillin V|\n",
            "|e363961e-e69e-66d...|   Wheat (substance)|\n",
            "+--------------------+--------------------+\n",
            "only showing top 20 rows\n",
            "\n"
          ]
        }
      ]
    },
    {
      "cell_type": "code",
      "metadata": {
        "colab": {
          "base_uri": "https://localhost:8080/"
        },
        "id": "9zeCJhB4gcU2",
        "outputId": "73247dd8-2092-423b-943e-b2c9acbfbf1e"
      },
      "source": [
        "pat_alg_des = pat_alg.groupBy('Id').agg(collect_set('DESCRIPTION').alias('items'))\n",
        "pat_alg_des.createOrReplaceTempView('alg_des')\n",
        "print(pat_alg_des.count())\n",
        "pat_alg_des.show()"
      ],
      "execution_count": null,
      "outputs": [
        {
          "output_type": "stream",
          "name": "stdout",
          "text": [
            "865\n",
            "+--------------------+--------------------+\n",
            "|                  Id|               items|\n",
            "+--------------------+--------------------+\n",
            "|0b137dae-22a8-8f3...|[Aspirin, House d...|\n",
            "|69aad4d9-6ddb-e13...|[Aspirin, Shellfi...|\n",
            "|7fdb3007-5d44-0c1...|[Soya bean (subst...|\n",
            "|8b8817c3-ccf8-0e5...|[Tree pollen (sub...|\n",
            "|c5010808-c106-f4f...|[Latex (substance...|\n",
            "|d7ae8592-4883-1fa...|[House dust mite ...|\n",
            "|dc5bca7e-b102-9a5...|[Shellfish (subst...|\n",
            "|296db11a-2bf8-7c9...|[Aspirin, Cow's m...|\n",
            "|32ae76a7-97d8-5b2...|[Shellfish (subst...|\n",
            "|3a5c110b-440c-50a...|[Shellfish (subst...|\n",
            "|428648f7-df01-58c...|[Aspirin, Grass p...|\n",
            "|570ef78b-27e7-9f7...|          [cefdinir]|\n",
            "|6f20f149-b9e0-2b6...|[Shellfish (subst...|\n",
            "|8ea91684-6822-48e...|[Shellfish (subst...|\n",
            "|b869f8ac-8310-135...| [Wheat (substance)]|\n",
            "|9cd166ef-b524-10d...|[House dust mite ...|\n",
            "|c95908c9-fb6c-0b0...|[Aspirin, Bee ven...|\n",
            "|de87ee28-69a7-b66...|[Aspirin, Grass p...|\n",
            "|e068ce30-2961-2c5...|[Peanut (substanc...|\n",
            "|5f5c0bc7-d468-db5...|[Grass pollen (su...|\n",
            "+--------------------+--------------------+\n",
            "only showing top 20 rows\n",
            "\n"
          ]
        }
      ]
    },
    {
      "cell_type": "code",
      "metadata": {
        "colab": {
          "base_uri": "https://localhost:8080/"
        },
        "id": "XQIKctI_gcHl",
        "outputId": "87020a27-3354-468f-88bd-76047695003a"
      },
      "source": [
        "#%scala\n",
        "%time\n",
        "from pyspark.ml.fpm import FPGrowth\n",
        "\n",
        "# Extract out the items \n",
        "class1_itemsDF = spark.sql(\"select items from alg_des\")#.as[Array[String]].toDF(\"items\")\n",
        "\n",
        "################# IT IS SHOWING PREDICTED DATA OF TOTAL_CLAIM_COST\n",
        "\n",
        "# Use FPGrowth\n",
        "fpGrowth = FPGrowth(itemsCol=\"items\", minSupport=0.006, minConfidence=0.006)\n",
        "model = fpGrowth.fit(class1_itemsDF)\n",
        "# Display frequent itemsets.\n",
        "model.freqItemsets.show()\n",
        "mostPopularPatClass = model.freqItemsets\n",
        "\n",
        "model.associationRules\n",
        "rules_alg_des = model.associationRules\n",
        "#rules_TClaim_cost.show()\n",
        "\n",
        "# transform examines the input items against all the association rules and summarize the\n",
        "# consequents as prediction\n",
        "model.transform(class1_itemsDF).show()\n",
        "rules_alg_des.createOrReplaceTempView(\"rules_TClaim_cost_table\")"
      ],
      "execution_count": null,
      "outputs": [
        {
          "output_type": "stream",
          "name": "stdout",
          "text": [
            "CPU times: user 4 µs, sys: 0 ns, total: 4 µs\n",
            "Wall time: 9.06 µs\n",
            "+--------------------+----+\n",
            "|               items|freq|\n",
            "+--------------------+----+\n",
            "|   [Mold (organism)]| 523|\n",
            "|[Animal dander (s...| 501|\n",
            "|[Animal dander (s...| 454|\n",
            "|[Grass pollen (su...| 411|\n",
            "|[Grass pollen (su...| 393|\n",
            "|[Grass pollen (su...| 391|\n",
            "|[Grass pollen (su...| 392|\n",
            "|[House dust mite ...| 397|\n",
            "|[House dust mite ...| 341|\n",
            "|[House dust mite ...| 341|\n",
            "|[House dust mite ...| 341|\n",
            "|[House dust mite ...| 341|\n",
            "|[House dust mite ...| 389|\n",
            "|[House dust mite ...| 389|\n",
            "|[House dust mite ...| 390|\n",
            "|[Tree pollen (sub...| 388|\n",
            "|[Tree pollen (sub...| 330|\n",
            "|[Tree pollen (sub...| 330|\n",
            "|[Tree pollen (sub...| 330|\n",
            "|[Tree pollen (sub...| 330|\n",
            "+--------------------+----+\n",
            "only showing top 20 rows\n",
            "\n",
            "+--------------------+--------------------+\n",
            "|               items|          prediction|\n",
            "+--------------------+--------------------+\n",
            "|[Aspirin, House d...|[Latex (substance...|\n",
            "|[Aspirin, Shellfi...|[Latex (substance...|\n",
            "|[Soya bean (subst...|[Bee venom (subst...|\n",
            "|[Tree pollen (sub...|[Animal dander (s...|\n",
            "|[Latex (substance...|[Wheat (substance...|\n",
            "|[House dust mite ...|[Shellfish (subst...|\n",
            "|[Shellfish (subst...|[Grass pollen (su...|\n",
            "|[Aspirin, Cow's m...|[Bee venom (subst...|\n",
            "|[Shellfish (subst...|[Bee venom (subst...|\n",
            "|[Shellfish (subst...|[House dust mite ...|\n",
            "|[Aspirin, Grass p...|[Animal dander (s...|\n",
            "|          [cefdinir]|[Grass pollen (su...|\n",
            "|[Shellfish (subst...|[Aspirin, Bee ven...|\n",
            "|[Shellfish (subst...|[Tree pollen (sub...|\n",
            "| [Wheat (substance)]|[Bee venom (subst...|\n",
            "|[House dust mite ...|[Shellfish (subst...|\n",
            "|[Aspirin, Bee ven...|[Grass pollen (su...|\n",
            "|[Aspirin, Grass p...|[Shellfish (subst...|\n",
            "|[Peanut (substanc...|[Bee venom (subst...|\n",
            "|[Grass pollen (su...|[House dust mite ...|\n",
            "+--------------------+--------------------+\n",
            "only showing top 20 rows\n",
            "\n"
          ]
        }
      ]
    },
    {
      "cell_type": "code",
      "metadata": {
        "colab": {
          "base_uri": "https://localhost:8080/"
        },
        "id": "ZfABW0sggb6I",
        "outputId": "8c0ddb7f-fadc-4f2c-96f3-9c3dddf48036"
      },
      "source": [
        "rules_alg_DF = rules_alg_des.select(\"*\").toPandas()\n",
        "rules_alg_DF.head()\n",
        "rules_alg_DF.shape"
      ],
      "execution_count": null,
      "outputs": [
        {
          "output_type": "execute_result",
          "data": {
            "text/plain": [
              "(29575, 4)"
            ]
          },
          "metadata": {},
          "execution_count": 25
        }
      ]
    },
    {
      "cell_type": "code",
      "metadata": {
        "colab": {
          "base_uri": "https://localhost:8080/"
        },
        "id": "BVjY0y6Hh04m",
        "outputId": "50014860-ba97-4e44-cb4b-295c02b6008a"
      },
      "source": [
        "rules_alg_DF.iat[1,1]"
      ],
      "execution_count": null,
      "outputs": [
        {
          "output_type": "execute_result",
          "data": {
            "text/plain": [
              "['Bee venom (substance)']"
            ]
          },
          "metadata": {},
          "execution_count": 26
        }
      ]
    },
    {
      "cell_type": "code",
      "metadata": {
        "colab": {
          "base_uri": "https://localhost:8080/",
          "height": 1117
        },
        "id": "xkntmEYogbta",
        "outputId": "1eff8c8d-f672-4f75-f77f-b703205141a5"
      },
      "source": [
        "rules_alg_DF[rules_alg_DF[\"antecedent\"].apply(lambda x: \"Bee venom (substance)\" in str(x))].sort_values(ascending=False,by='lift')"
      ],
      "execution_count": null,
      "outputs": [
        {
          "output_type": "execute_result",
          "data": {
            "text/plain": [
              "                                              antecedent  \\\n",
              "25021  [Eggs (edible) (substance), Bee venom (substan...   \n",
              "12027  [Eggs (edible) (substance), Bee venom (substan...   \n",
              "14883  [Eggs (edible) (substance), Bee venom (substan...   \n",
              "23574  [Eggs (edible) (substance), Bee venom (substan...   \n",
              "29018  [Eggs (edible) (substance), Bee venom (substan...   \n",
              "...                                                  ...   \n",
              "21816                   [Bee venom (substance), Aspirin]   \n",
              "27388  [Eggs (edible) (substance), Bee venom (substan...   \n",
              "7822   [Eggs (edible) (substance), Bee venom (substan...   \n",
              "28946  [Eggs (edible) (substance), Bee venom (substan...   \n",
              "19919  [Eggs (edible) (substance), Bee venom (substan...   \n",
              "\n",
              "                    consequent  confidence      lift  \n",
              "25021       [Fish (substance)]    0.857143  5.372671  \n",
              "12027       [Fish (substance)]    0.857143  5.372671  \n",
              "14883       [Fish (substance)]    0.857143  5.372671  \n",
              "23574       [Fish (substance)]    0.857143  5.372671  \n",
              "29018       [Fish (substance)]    0.857143  5.372671  \n",
              "...                        ...         ...       ...  \n",
              "21816  [Shellfish (substance)]    0.150000  0.566594  \n",
              "27388  [Shellfish (substance)]    0.136364  0.515085  \n",
              "7822   [Shellfish (substance)]    0.136364  0.515085  \n",
              "28946  [Shellfish (substance)]    0.136364  0.515085  \n",
              "19919  [Shellfish (substance)]    0.136364  0.515085  \n",
              "\n",
              "[7640 rows x 4 columns]"
            ],
            "text/html": [
              "\n",
              "  <div id=\"df-7707424d-96e6-4783-832d-e36ac51c17f5\">\n",
              "    <div class=\"colab-df-container\">\n",
              "      <div>\n",
              "<style scoped>\n",
              "    .dataframe tbody tr th:only-of-type {\n",
              "        vertical-align: middle;\n",
              "    }\n",
              "\n",
              "    .dataframe tbody tr th {\n",
              "        vertical-align: top;\n",
              "    }\n",
              "\n",
              "    .dataframe thead th {\n",
              "        text-align: right;\n",
              "    }\n",
              "</style>\n",
              "<table border=\"1\" class=\"dataframe\">\n",
              "  <thead>\n",
              "    <tr style=\"text-align: right;\">\n",
              "      <th></th>\n",
              "      <th>antecedent</th>\n",
              "      <th>consequent</th>\n",
              "      <th>confidence</th>\n",
              "      <th>lift</th>\n",
              "    </tr>\n",
              "  </thead>\n",
              "  <tbody>\n",
              "    <tr>\n",
              "      <th>25021</th>\n",
              "      <td>[Eggs (edible) (substance), Bee venom (substan...</td>\n",
              "      <td>[Fish (substance)]</td>\n",
              "      <td>0.857143</td>\n",
              "      <td>5.372671</td>\n",
              "    </tr>\n",
              "    <tr>\n",
              "      <th>12027</th>\n",
              "      <td>[Eggs (edible) (substance), Bee venom (substan...</td>\n",
              "      <td>[Fish (substance)]</td>\n",
              "      <td>0.857143</td>\n",
              "      <td>5.372671</td>\n",
              "    </tr>\n",
              "    <tr>\n",
              "      <th>14883</th>\n",
              "      <td>[Eggs (edible) (substance), Bee venom (substan...</td>\n",
              "      <td>[Fish (substance)]</td>\n",
              "      <td>0.857143</td>\n",
              "      <td>5.372671</td>\n",
              "    </tr>\n",
              "    <tr>\n",
              "      <th>23574</th>\n",
              "      <td>[Eggs (edible) (substance), Bee venom (substan...</td>\n",
              "      <td>[Fish (substance)]</td>\n",
              "      <td>0.857143</td>\n",
              "      <td>5.372671</td>\n",
              "    </tr>\n",
              "    <tr>\n",
              "      <th>29018</th>\n",
              "      <td>[Eggs (edible) (substance), Bee venom (substan...</td>\n",
              "      <td>[Fish (substance)]</td>\n",
              "      <td>0.857143</td>\n",
              "      <td>5.372671</td>\n",
              "    </tr>\n",
              "    <tr>\n",
              "      <th>...</th>\n",
              "      <td>...</td>\n",
              "      <td>...</td>\n",
              "      <td>...</td>\n",
              "      <td>...</td>\n",
              "    </tr>\n",
              "    <tr>\n",
              "      <th>21816</th>\n",
              "      <td>[Bee venom (substance), Aspirin]</td>\n",
              "      <td>[Shellfish (substance)]</td>\n",
              "      <td>0.150000</td>\n",
              "      <td>0.566594</td>\n",
              "    </tr>\n",
              "    <tr>\n",
              "      <th>27388</th>\n",
              "      <td>[Eggs (edible) (substance), Bee venom (substan...</td>\n",
              "      <td>[Shellfish (substance)]</td>\n",
              "      <td>0.136364</td>\n",
              "      <td>0.515085</td>\n",
              "    </tr>\n",
              "    <tr>\n",
              "      <th>7822</th>\n",
              "      <td>[Eggs (edible) (substance), Bee venom (substan...</td>\n",
              "      <td>[Shellfish (substance)]</td>\n",
              "      <td>0.136364</td>\n",
              "      <td>0.515085</td>\n",
              "    </tr>\n",
              "    <tr>\n",
              "      <th>28946</th>\n",
              "      <td>[Eggs (edible) (substance), Bee venom (substan...</td>\n",
              "      <td>[Shellfish (substance)]</td>\n",
              "      <td>0.136364</td>\n",
              "      <td>0.515085</td>\n",
              "    </tr>\n",
              "    <tr>\n",
              "      <th>19919</th>\n",
              "      <td>[Eggs (edible) (substance), Bee venom (substan...</td>\n",
              "      <td>[Shellfish (substance)]</td>\n",
              "      <td>0.136364</td>\n",
              "      <td>0.515085</td>\n",
              "    </tr>\n",
              "  </tbody>\n",
              "</table>\n",
              "<p>7640 rows × 4 columns</p>\n",
              "</div>\n",
              "      <button class=\"colab-df-convert\" onclick=\"convertToInteractive('df-7707424d-96e6-4783-832d-e36ac51c17f5')\"\n",
              "              title=\"Convert this dataframe to an interactive table.\"\n",
              "              style=\"display:none;\">\n",
              "        \n",
              "  <svg xmlns=\"http://www.w3.org/2000/svg\" height=\"24px\"viewBox=\"0 0 24 24\"\n",
              "       width=\"24px\">\n",
              "    <path d=\"M0 0h24v24H0V0z\" fill=\"none\"/>\n",
              "    <path d=\"M18.56 5.44l.94 2.06.94-2.06 2.06-.94-2.06-.94-.94-2.06-.94 2.06-2.06.94zm-11 1L8.5 8.5l.94-2.06 2.06-.94-2.06-.94L8.5 2.5l-.94 2.06-2.06.94zm10 10l.94 2.06.94-2.06 2.06-.94-2.06-.94-.94-2.06-.94 2.06-2.06.94z\"/><path d=\"M17.41 7.96l-1.37-1.37c-.4-.4-.92-.59-1.43-.59-.52 0-1.04.2-1.43.59L10.3 9.45l-7.72 7.72c-.78.78-.78 2.05 0 2.83L4 21.41c.39.39.9.59 1.41.59.51 0 1.02-.2 1.41-.59l7.78-7.78 2.81-2.81c.8-.78.8-2.07 0-2.86zM5.41 20L4 18.59l7.72-7.72 1.47 1.35L5.41 20z\"/>\n",
              "  </svg>\n",
              "      </button>\n",
              "      \n",
              "  <style>\n",
              "    .colab-df-container {\n",
              "      display:flex;\n",
              "      flex-wrap:wrap;\n",
              "      gap: 12px;\n",
              "    }\n",
              "\n",
              "    .colab-df-convert {\n",
              "      background-color: #E8F0FE;\n",
              "      border: none;\n",
              "      border-radius: 50%;\n",
              "      cursor: pointer;\n",
              "      display: none;\n",
              "      fill: #1967D2;\n",
              "      height: 32px;\n",
              "      padding: 0 0 0 0;\n",
              "      width: 32px;\n",
              "    }\n",
              "\n",
              "    .colab-df-convert:hover {\n",
              "      background-color: #E2EBFA;\n",
              "      box-shadow: 0px 1px 2px rgba(60, 64, 67, 0.3), 0px 1px 3px 1px rgba(60, 64, 67, 0.15);\n",
              "      fill: #174EA6;\n",
              "    }\n",
              "\n",
              "    [theme=dark] .colab-df-convert {\n",
              "      background-color: #3B4455;\n",
              "      fill: #D2E3FC;\n",
              "    }\n",
              "\n",
              "    [theme=dark] .colab-df-convert:hover {\n",
              "      background-color: #434B5C;\n",
              "      box-shadow: 0px 1px 3px 1px rgba(0, 0, 0, 0.15);\n",
              "      filter: drop-shadow(0px 1px 2px rgba(0, 0, 0, 0.3));\n",
              "      fill: #FFFFFF;\n",
              "    }\n",
              "  </style>\n",
              "\n",
              "      <script>\n",
              "        const buttonEl =\n",
              "          document.querySelector('#df-7707424d-96e6-4783-832d-e36ac51c17f5 button.colab-df-convert');\n",
              "        buttonEl.style.display =\n",
              "          google.colab.kernel.accessAllowed ? 'block' : 'none';\n",
              "\n",
              "        async function convertToInteractive(key) {\n",
              "          const element = document.querySelector('#df-7707424d-96e6-4783-832d-e36ac51c17f5');\n",
              "          const dataTable =\n",
              "            await google.colab.kernel.invokeFunction('convertToInteractive',\n",
              "                                                     [key], {});\n",
              "          if (!dataTable) return;\n",
              "\n",
              "          const docLinkHtml = 'Like what you see? Visit the ' +\n",
              "            '<a target=\"_blank\" href=https://colab.research.google.com/notebooks/data_table.ipynb>data table notebook</a>'\n",
              "            + ' to learn more about interactive tables.';\n",
              "          element.innerHTML = '';\n",
              "          dataTable['output_type'] = 'display_data';\n",
              "          await google.colab.output.renderOutput(dataTable, element);\n",
              "          const docLink = document.createElement('div');\n",
              "          docLink.innerHTML = docLinkHtml;\n",
              "          element.appendChild(docLink);\n",
              "        }\n",
              "      </script>\n",
              "    </div>\n",
              "  </div>\n",
              "  "
            ]
          },
          "metadata": {},
          "execution_count": 27
        }
      ]
    },
    {
      "cell_type": "code",
      "metadata": {
        "id": "5mu5_t3yi8li"
      },
      "source": [
        "#pat_car = spark.sql(\"select p.Id from carepla car, patie p where p.Id == car.PATIENTID\")\n",
        "#pat_car.show()"
      ],
      "execution_count": null,
      "outputs": []
    },
    {
      "cell_type": "code",
      "metadata": {
        "colab": {
          "base_uri": "https://localhost:8080/"
        },
        "id": "kxL_Tre9kLkn",
        "outputId": "c3e8b0d3-c1de-4150-beb8-4535918ce2d9"
      },
      "source": [
        "pat_clmtr = spark.sql(\"select p.Id, clmtr.TYPE, clmtr.NOTES from claim_transacti clmtr, patie p where p.Id == clmtr.PATIENTID\")\n",
        "pat_clmtr.show()"
      ],
      "execution_count": null,
      "outputs": [
        {
          "output_type": "stream",
          "name": "stdout",
          "text": [
            "+--------------------+-----------+--------------------+\n",
            "|                  Id|       TYPE|               NOTES|\n",
            "+--------------------+-----------+--------------------+\n",
            "|231a2cb1-0ebe-dc1...|     CHARGE|General examinati...|\n",
            "|231a2cb1-0ebe-dc1...|TRANSFEROUT|General examinati...|\n",
            "|231a2cb1-0ebe-dc1...| TRANSFERIN|General examinati...|\n",
            "|9b5de0da-9c38-358...|     CHARGE|General examinati...|\n",
            "|34c9600a-6f70-b55...|     CHARGE|Emergency Room Ad...|\n",
            "|9b5de0da-9c38-358...|    PAYMENT|General examinati...|\n",
            "|231a2cb1-0ebe-dc1...|    PAYMENT|General examinati...|\n",
            "|9b5de0da-9c38-358...|TRANSFEROUT|General examinati...|\n",
            "|9b5de0da-9c38-358...| TRANSFERIN|General examinati...|\n",
            "|9b5de0da-9c38-358...|    PAYMENT|General examinati...|\n",
            "|231a2cb1-0ebe-dc1...|     CHARGE|General examinati...|\n",
            "|231a2cb1-0ebe-dc1...|TRANSFEROUT|General examinati...|\n",
            "|231a2cb1-0ebe-dc1...| TRANSFERIN|General examinati...|\n",
            "|231a2cb1-0ebe-dc1...|    PAYMENT|General examinati...|\n",
            "|231a2cb1-0ebe-dc1...|     CHARGE|Influenza  season...|\n",
            "|231a2cb1-0ebe-dc1...|TRANSFEROUT|Influenza  season...|\n",
            "|231a2cb1-0ebe-dc1...| TRANSFERIN|Influenza  season...|\n",
            "|231a2cb1-0ebe-dc1...|    PAYMENT|Influenza  season...|\n",
            "|9b5de0da-9c38-358...|     CHARGE|General examinati...|\n",
            "|9b5de0da-9c38-358...|    PAYMENT|General examinati...|\n",
            "+--------------------+-----------+--------------------+\n",
            "only showing top 20 rows\n",
            "\n"
          ]
        }
      ]
    },
    {
      "cell_type": "code",
      "metadata": {
        "colab": {
          "base_uri": "https://localhost:8080/"
        },
        "id": "0BkRaEsWiR1C",
        "outputId": "86405055-9f0f-4ded-8301-dda80a7f5e40"
      },
      "source": [
        "pat_clmtr1 = pat_clmtr.groupBy('Id').agg(collect_set('TYPE').alias('items'))\n",
        "pat_clmtr1.show()\n",
        "pat_clmtr1.createOrReplaceTempView('clmtr_type')\n",
        "print(pat_clmtr1.count())\n",
        "pat_clmtr1.show()"
      ],
      "execution_count": null,
      "outputs": [
        {
          "output_type": "stream",
          "name": "stdout",
          "text": [
            "+--------------------+--------------------+\n",
            "|                  Id|               items|\n",
            "+--------------------+--------------------+\n",
            "|7fdb3007-5d44-0c1...|[TRANSFEROUT, CHA...|\n",
            "|a23e7de2-1571-3bc...|[TRANSFEROUT, CHA...|\n",
            "|9898cc43-82e7-adb...|[TRANSFEROUT, CHA...|\n",
            "|bff182c2-96a7-839...|[TRANSFEROUT, CHA...|\n",
            "|17fbaf1c-1607-8c6...|[TRANSFEROUT, CHA...|\n",
            "|231d9d40-9bff-9f1...|[TRANSFEROUT, CHA...|\n",
            "|7521adae-a41a-b57...|[TRANSFEROUT, CHA...|\n",
            "|0b137dae-22a8-8f3...|[TRANSFEROUT, CHA...|\n",
            "|49374c03-3a21-8dd...|[TRANSFEROUT, CHA...|\n",
            "|5792f730-1cb7-004...|[TRANSFEROUT, CHA...|\n",
            "|9fa6922e-fa65-32e...|[TRANSFEROUT, CHA...|\n",
            "|050a7653-46cc-4b7...|[TRANSFEROUT, CHA...|\n",
            "|0e3c545f-2be9-63f...|[TRANSFEROUT, CHA...|\n",
            "|d3cb0101-bc8e-44f...|[TRANSFEROUT, CHA...|\n",
            "|1f245d1f-3474-10b...|[TRANSFEROUT, CHA...|\n",
            "|93538c7f-287e-1ef...|[TRANSFEROUT, CHA...|\n",
            "|c5010808-c106-f4f...|[TRANSFEROUT, CHA...|\n",
            "|69aad4d9-6ddb-e13...|[TRANSFEROUT, CHA...|\n",
            "|dc5bca7e-b102-9a5...|[TRANSFEROUT, CHA...|\n",
            "|366ad69e-d8df-b2e...|[TRANSFEROUT, CHA...|\n",
            "+--------------------+--------------------+\n",
            "only showing top 20 rows\n",
            "\n",
            "6038\n",
            "+--------------------+--------------------+\n",
            "|                  Id|               items|\n",
            "+--------------------+--------------------+\n",
            "|7fdb3007-5d44-0c1...|[TRANSFEROUT, CHA...|\n",
            "|a23e7de2-1571-3bc...|[TRANSFEROUT, CHA...|\n",
            "|9898cc43-82e7-adb...|[TRANSFEROUT, CHA...|\n",
            "|bff182c2-96a7-839...|[TRANSFEROUT, CHA...|\n",
            "|17fbaf1c-1607-8c6...|[TRANSFEROUT, CHA...|\n",
            "|231d9d40-9bff-9f1...|[TRANSFEROUT, CHA...|\n",
            "|7521adae-a41a-b57...|[TRANSFEROUT, CHA...|\n",
            "|0b137dae-22a8-8f3...|[TRANSFEROUT, CHA...|\n",
            "|49374c03-3a21-8dd...|[TRANSFEROUT, CHA...|\n",
            "|5792f730-1cb7-004...|[TRANSFEROUT, CHA...|\n",
            "|9fa6922e-fa65-32e...|[TRANSFEROUT, CHA...|\n",
            "|050a7653-46cc-4b7...|[TRANSFEROUT, CHA...|\n",
            "|0e3c545f-2be9-63f...|[TRANSFEROUT, CHA...|\n",
            "|d3cb0101-bc8e-44f...|[TRANSFEROUT, CHA...|\n",
            "|1f245d1f-3474-10b...|[TRANSFEROUT, CHA...|\n",
            "|93538c7f-287e-1ef...|[TRANSFEROUT, CHA...|\n",
            "|c5010808-c106-f4f...|[TRANSFEROUT, CHA...|\n",
            "|69aad4d9-6ddb-e13...|[TRANSFEROUT, CHA...|\n",
            "|dc5bca7e-b102-9a5...|[TRANSFEROUT, CHA...|\n",
            "|366ad69e-d8df-b2e...|[TRANSFEROUT, CHA...|\n",
            "+--------------------+--------------------+\n",
            "only showing top 20 rows\n",
            "\n"
          ]
        }
      ]
    },
    {
      "cell_type": "code",
      "metadata": {
        "colab": {
          "base_uri": "https://localhost:8080/"
        },
        "id": "UnowOKXfiRl2",
        "outputId": "d4dc3aac-2082-4a00-ba63-09f668da9249"
      },
      "source": [
        "pat_clmtr2 = pat_clmtr.groupBy('Id').agg(collect_set('NOTES').alias('items'))\n",
        "pat_clmtr2.createOrReplaceTempView('clmtr_note')\n",
        "print(pat_clmtr2.count())\n",
        "pat_clmtr2.show()"
      ],
      "execution_count": null,
      "outputs": [
        {
          "output_type": "stream",
          "name": "stdout",
          "text": [
            "6038\n",
            "+--------------------+--------------------+\n",
            "|                  Id|               items|\n",
            "+--------------------+--------------------+\n",
            "|7fdb3007-5d44-0c1...|[Encounter for ch...|\n",
            "|a23e7de2-1571-3bc...|[Bone immobilizat...|\n",
            "|9898cc43-82e7-adb...|[Prenatal visit, ...|\n",
            "|bff182c2-96a7-839...|[Prenatal visit, ...|\n",
            "|17fbaf1c-1607-8c6...|[Depression scree...|\n",
            "|231d9d40-9bff-9f1...|[Encounter for ch...|\n",
            "|7521adae-a41a-b57...|[Encounter for ch...|\n",
            "|0b137dae-22a8-8f3...|[Loratadine 5 MG ...|\n",
            "|49374c03-3a21-8dd...|[Encounter for ch...|\n",
            "|5792f730-1cb7-004...|[Encounter for ch...|\n",
            "|9fa6922e-fa65-32e...|[IPV, Influenza  ...|\n",
            "|050a7653-46cc-4b7...|[Encounter for ch...|\n",
            "|0e3c545f-2be9-63f...|[Screening for oc...|\n",
            "|d3cb0101-bc8e-44f...|[Depression scree...|\n",
            "|1f245d1f-3474-10b...|[Encounter for ch...|\n",
            "|93538c7f-287e-1ef...|[Prenatal visit, ...|\n",
            "|c5010808-c106-f4f...|[Encounter for ch...|\n",
            "|69aad4d9-6ddb-e13...|[Encounter for ch...|\n",
            "|dc5bca7e-b102-9a5...|[Depression scree...|\n",
            "|366ad69e-d8df-b2e...|[Encounter for ch...|\n",
            "+--------------------+--------------------+\n",
            "only showing top 20 rows\n",
            "\n"
          ]
        }
      ]
    },
    {
      "cell_type": "code",
      "metadata": {
        "colab": {
          "base_uri": "https://localhost:8080/"
        },
        "id": "EeKoyLSriRVz",
        "outputId": "ba53ee0d-b73e-4e97-8813-46ef54ee2da8"
      },
      "source": [
        "#%scala\n",
        "%time\n",
        "from pyspark.ml.fpm import FPGrowth\n",
        "\n",
        "# Extract out the items \n",
        "class1_itemsDF = spark.sql(\"select items from clmtr_type\")\n",
        "################# IT IS SHOWING PREDICTED DATA OF TOTAL_CLAIM_COST\n",
        "\n",
        "# Use FPGrowth\n",
        "fpGrowth = FPGrowth(itemsCol=\"items\", minSupport=0.006, minConfidence=0.006)\n",
        "model = fpGrowth.fit(class1_itemsDF)\n",
        "# Display frequent itemsets.\n",
        "model.freqItemsets.show()\n",
        "mostPopularPatClass = model.freqItemsets\n",
        "\n",
        "model.associationRules\n",
        "rules_clmtr_type = model.associationRules\n",
        "#rules_TClaim_cost.show()\n",
        "\n",
        "# transform examines the input items against all the association rules and summarize the\n",
        "# consequents as prediction\n",
        "model.transform(class1_itemsDF).show()\n",
        "rules_clmtr_type.createOrReplaceTempView(\"rules_clmtr_type\")"
      ],
      "execution_count": null,
      "outputs": [
        {
          "output_type": "stream",
          "name": "stdout",
          "text": [
            "CPU times: user 3 µs, sys: 1 µs, total: 4 µs\n",
            "Wall time: 7.39 µs\n",
            "+--------------------+----+\n",
            "|               items|freq|\n",
            "+--------------------+----+\n",
            "|            [CHARGE]|6038|\n",
            "|           [PAYMENT]|6038|\n",
            "|   [PAYMENT, CHARGE]|6038|\n",
            "|       [TRANSFEROUT]|5960|\n",
            "|[TRANSFEROUT, PAY...|5960|\n",
            "|[TRANSFEROUT, PAY...|5960|\n",
            "|[TRANSFEROUT, CHA...|5960|\n",
            "|        [TRANSFERIN]|5960|\n",
            "|[TRANSFERIN, TRAN...|5960|\n",
            "|[TRANSFERIN, TRAN...|5960|\n",
            "|[TRANSFERIN, TRAN...|5960|\n",
            "|[TRANSFERIN, TRAN...|5960|\n",
            "|[TRANSFERIN, PAYM...|5960|\n",
            "|[TRANSFERIN, PAYM...|5960|\n",
            "|[TRANSFERIN, CHARGE]|5960|\n",
            "+--------------------+----+\n",
            "\n",
            "+--------------------+----------+\n",
            "|               items|prediction|\n",
            "+--------------------+----------+\n",
            "|[TRANSFEROUT, CHA...|        []|\n",
            "|[TRANSFEROUT, CHA...|        []|\n",
            "|[TRANSFEROUT, CHA...|        []|\n",
            "|[TRANSFEROUT, CHA...|        []|\n",
            "|[TRANSFEROUT, CHA...|        []|\n",
            "|[TRANSFEROUT, CHA...|        []|\n",
            "|[TRANSFEROUT, CHA...|        []|\n",
            "|[TRANSFEROUT, CHA...|        []|\n",
            "|[TRANSFEROUT, CHA...|        []|\n",
            "|[TRANSFEROUT, CHA...|        []|\n",
            "|[TRANSFEROUT, CHA...|        []|\n",
            "|[TRANSFEROUT, CHA...|        []|\n",
            "|[TRANSFEROUT, CHA...|        []|\n",
            "|[TRANSFEROUT, CHA...|        []|\n",
            "|[TRANSFEROUT, CHA...|        []|\n",
            "|[TRANSFEROUT, CHA...|        []|\n",
            "|[TRANSFEROUT, CHA...|        []|\n",
            "|[TRANSFEROUT, CHA...|        []|\n",
            "|[TRANSFEROUT, CHA...|        []|\n",
            "|[TRANSFEROUT, CHA...|        []|\n",
            "+--------------------+----------+\n",
            "only showing top 20 rows\n",
            "\n"
          ]
        }
      ]
    },
    {
      "cell_type": "code",
      "metadata": {
        "id": "hn4SMquCiRHZ"
      },
      "source": [
        "#%scala\n",
        "%time\n",
        "#from pyspark.ml.fpm import FPGrowth\n",
        "\n",
        "# Extract out the items \n",
        "class1_itemsDF = spark.sql(\"select items from clmtr_note\")\n",
        "\n",
        "################# IT IS SHOWING PREDICTED DATA OF TOTAL_CLAIM_COST\n",
        "\n",
        "# Use FPGrowth\n",
        "fpGrowth = FPGrowth(itemsCol=\"items\", minSupport=0.006, minConfidence=0.006)\n",
        "model = fpGrowth.fit(class1_itemsDF)\n",
        "# Display frequent itemsets.\n",
        "model.freqItemsets.show()\n",
        "mostPopularPatClass = model.freqItemsets\n",
        "\n",
        "model.associationRules\n",
        "rules_clmtr_note = model.associationRules\n",
        "#rules_TClaim_cost.show()\n",
        "\n",
        "# transform examines the input items against all the association rules and summarize the\n",
        "# consequents as prediction\n",
        "model.transform(class1_itemsDF).show()\n",
        "rules_clmtr_note.createOrReplaceTempView(\"rules_clmtr_note\")"
      ],
      "execution_count": null,
      "outputs": []
    },
    {
      "cell_type": "code",
      "metadata": {
        "id": "hppyPHvliQ5Y"
      },
      "source": [
        "rules_clmtr_type = rules_clmtr_type.select(\"*\").toPandas()\n",
        "print(rules_clmtr_type.shape)\n",
        "rules_clmtr_type.head()"
      ],
      "execution_count": null,
      "outputs": []
    },
    {
      "cell_type": "code",
      "metadata": {
        "id": "PfMzo3AzkhVh"
      },
      "source": [
        "rules_clmtr_type.iat[1,1]"
      ],
      "execution_count": null,
      "outputs": []
    },
    {
      "cell_type": "code",
      "metadata": {
        "id": "p-VIGXf8iQZs"
      },
      "source": [
        "rules_clmtr_type[rules_clmtr_type[\"antecedent\"].apply(lambda x: \"urgentcare\" in str(x))].sort_values(ascending=False,by='lift')"
      ],
      "execution_count": null,
      "outputs": []
    },
    {
      "cell_type": "code",
      "metadata": {
        "id": "snhcjDhUj19O"
      },
      "source": [
        "rulesdf_clmtr_note = rules_clmtr_note.select(\"*\").toPandas()\n",
        "rulesdf_clmtr_note.head()\n",
        "rulesdf_clmtr_note.shape"
      ],
      "execution_count": null,
      "outputs": []
    },
    {
      "cell_type": "code",
      "metadata": {
        "id": "tUSqw4UOlNuN"
      },
      "source": [
        "rulesdf_clmtr_note.iat[1,1]"
      ],
      "execution_count": null,
      "outputs": []
    },
    {
      "cell_type": "code",
      "metadata": {
        "id": "YU41rWA8j1ul"
      },
      "source": [
        "rulesdf_clmtr_note[rulesdf_clmtr_note[\"antecedent\"].apply(lambda x: \"926.85\" in str(x))].sort_values(ascending=False,by='lift')"
      ],
      "execution_count": null,
      "outputs": []
    },
    {
      "cell_type": "code",
      "metadata": {
        "id": "XgPk6Xn1j1em"
      },
      "source": [
        "dataframe = pd.concat([rules_clmtr_type, rulesdf_clmtr_note], axis=0)"
      ],
      "execution_count": null,
      "outputs": []
    },
    {
      "cell_type": "code",
      "metadata": {
        "id": "taFIyzPNj-as"
      },
      "source": [
        "dataframe.head()"
      ],
      "execution_count": null,
      "outputs": []
    },
    {
      "cell_type": "code",
      "metadata": {
        "colab": {
          "base_uri": "https://localhost:8080/"
        },
        "id": "TskxGf-tm89S",
        "outputId": "53e6d5f5-1f84-476d-b6bf-3cf49de34f73"
      },
      "source": [
        "pat_cond = spark.sql(\"select p.Id, cond.DESCRIPTION from conditi cond, patie p where p.Id == cond.PATIENT\")\n",
        "pat_cond.show()"
      ],
      "execution_count": null,
      "outputs": [
        {
          "output_type": "stream",
          "name": "stdout",
          "text": [
            "+--------------------+--------------------+\n",
            "|                  Id|         DESCRIPTION|\n",
            "+--------------------+--------------------+\n",
            "|231a2cb1-0ebe-dc1...|Received higher e...|\n",
            "|231a2cb1-0ebe-dc1...|Full-time employm...|\n",
            "|231a2cb1-0ebe-dc1...|Lack of access to...|\n",
            "|231a2cb1-0ebe-dc1...|Limited social co...|\n",
            "|231a2cb1-0ebe-dc1...|    Stress (finding)|\n",
            "|9b5de0da-9c38-358...|Received higher e...|\n",
            "|9b5de0da-9c38-358...|Transport problem...|\n",
            "|9b5de0da-9c38-358...|Full-time employm...|\n",
            "|9b5de0da-9c38-358...|Lack of access to...|\n",
            "|231a2cb1-0ebe-dc1...|Part-time employm...|\n",
            "|231a2cb1-0ebe-dc1...|Transport problem...|\n",
            "|9b5de0da-9c38-358...|Limited social co...|\n",
            "|9b5de0da-9c38-358...|    Stress (finding)|\n",
            "|9b5de0da-9c38-358...|Has a criminal re...|\n",
            "|34c9600a-6f70-b55...|    Seizure disorder|\n",
            "|34c9600a-6f70-b55...|History of single...|\n",
            "|9b5de0da-9c38-358...|Full-time employm...|\n",
            "|9b5de0da-9c38-358...|Social isolation ...|\n",
            "|9b5de0da-9c38-358...|Streptococcal sor...|\n",
            "|9b5de0da-9c38-358...|Body mass index 3...|\n",
            "+--------------------+--------------------+\n",
            "only showing top 20 rows\n",
            "\n"
          ]
        }
      ]
    },
    {
      "cell_type": "code",
      "metadata": {
        "id": "Ljwm0QbcmVXL"
      },
      "source": [
        "pat_cond1 = pat_cond.groupBy('Id').agg(collect_set('DESCRIPTION').alias('items'))\n",
        "pat_cond1.createOrReplaceTempView('pat_cond_des')\n",
        "print(pat_cond1.count())\n",
        "pat_cond1.show()"
      ],
      "execution_count": null,
      "outputs": []
    },
    {
      "cell_type": "code",
      "metadata": {
        "id": "tCW6ABvumVNp"
      },
      "source": [
        "#%scala\n",
        "%time\n",
        "from pyspark.ml.fpm import FPGrowth\n",
        "\n",
        "# Extract out the items \n",
        "class1_itemsDF = spark.sql(\"select items from pat_cond_des\")#.as[Array[String]].toDF(\"items\")\n",
        "\n",
        "################# IT IS SHOWING PREDICTED DATA OF TOTAL_CLAIM_COST\n",
        "\n",
        "# Use FPGrowth\n",
        "fpGrowth = FPGrowth(itemsCol=\"items\", minSupport=0.006, minConfidence=0.006)\n",
        "model = fpGrowth.fit(class1_itemsDF)\n",
        "# Display frequent itemsets.\n",
        "model.freqItemsets.show()\n",
        "mostPopularPatClass = model.freqItemsets\n",
        "\n",
        "model.associationRules\n",
        "rules_cond = model.associationRules\n",
        "#rules_TClaim_cost.show()\n",
        "\n",
        "# transform examines the input items against all the association rules and summarize the\n",
        "# consequents as prediction\n",
        "model.transform(class1_itemsDF).show()\n",
        "rules_cond.createOrReplaceTempView(\"rules_cond\")"
      ],
      "execution_count": null,
      "outputs": []
    },
    {
      "cell_type": "code",
      "metadata": {
        "id": "Ld9U2u44mVBu"
      },
      "source": [
        "rulesDF_cond = rules_data.select(\"*\").toPandas()\n",
        "print(rulesDF_cond.shape)\n",
        "rulesDF_cond.head()"
      ],
      "execution_count": null,
      "outputs": []
    },
    {
      "cell_type": "code",
      "metadata": {
        "id": "O2m2wm7DmU3Y"
      },
      "source": [
        "rulesDF_cond.iat[1,1]"
      ],
      "execution_count": null,
      "outputs": []
    },
    {
      "cell_type": "code",
      "metadata": {
        "id": "Q3HY6TRtmUr4"
      },
      "source": [
        "rulesDF_cond[rulesDF_cond[\"antecedent\"].apply(lambda x: \"urgentcare\" in str(x))].sort_values(ascending=False,by='lift')"
      ],
      "execution_count": null,
      "outputs": []
    },
    {
      "cell_type": "code",
      "metadata": {
        "id": "BMUGAIzDmUeE"
      },
      "source": [],
      "execution_count": null,
      "outputs": []
    },
    {
      "cell_type": "code",
      "metadata": {
        "colab": {
          "base_uri": "https://localhost:8080/"
        },
        "id": "yG1H1s85njsa",
        "outputId": "f83c8243-e09a-4cdd-955d-165cf672f5c8"
      },
      "source": [
        "pat_cond = spark.sql(\"select p.Id, cond.DESCRIPTION from conditi cond, patie p where p.Id == cond.PATIENT\")\n",
        "pat_cond.show()"
      ],
      "execution_count": null,
      "outputs": [
        {
          "output_type": "stream",
          "name": "stdout",
          "text": [
            "+--------------------+--------------------+\n",
            "|                  Id|         DESCRIPTION|\n",
            "+--------------------+--------------------+\n",
            "|231a2cb1-0ebe-dc1...|Received higher e...|\n",
            "|231a2cb1-0ebe-dc1...|Full-time employm...|\n",
            "|231a2cb1-0ebe-dc1...|Lack of access to...|\n",
            "|231a2cb1-0ebe-dc1...|Limited social co...|\n",
            "|231a2cb1-0ebe-dc1...|    Stress (finding)|\n",
            "|9b5de0da-9c38-358...|Received higher e...|\n",
            "|9b5de0da-9c38-358...|Transport problem...|\n",
            "|9b5de0da-9c38-358...|Full-time employm...|\n",
            "|9b5de0da-9c38-358...|Lack of access to...|\n",
            "|231a2cb1-0ebe-dc1...|Part-time employm...|\n",
            "|231a2cb1-0ebe-dc1...|Transport problem...|\n",
            "|9b5de0da-9c38-358...|Limited social co...|\n",
            "|9b5de0da-9c38-358...|    Stress (finding)|\n",
            "|9b5de0da-9c38-358...|Has a criminal re...|\n",
            "|34c9600a-6f70-b55...|    Seizure disorder|\n",
            "|34c9600a-6f70-b55...|History of single...|\n",
            "|9b5de0da-9c38-358...|Full-time employm...|\n",
            "|9b5de0da-9c38-358...|Social isolation ...|\n",
            "|9b5de0da-9c38-358...|Streptococcal sor...|\n",
            "|9b5de0da-9c38-358...|Body mass index 3...|\n",
            "+--------------------+--------------------+\n",
            "only showing top 20 rows\n",
            "\n"
          ]
        }
      ]
    },
    {
      "cell_type": "code",
      "metadata": {
        "id": "OjeXhT-AnjdC"
      },
      "source": [
        "#pat_dev = spark.sql(\"select p.Id, dev.DESCRIPTION from devic dev, patie p where p.Id == dev.PATIENT\")\n",
        "#pat_dev.show()"
      ],
      "execution_count": null,
      "outputs": []
    },
    {
      "cell_type": "code",
      "metadata": {
        "colab": {
          "base_uri": "https://localhost:8080/"
        },
        "id": "gfKdgYSBoMdT",
        "outputId": "efee642a-5ed0-43cb-da13-c60f164ec93a"
      },
      "source": [
        "pat_imgstd = spark.sql(\"select p.Id, imgstd.BODYSITE_DESCRIPTION from imging_studi imgstd, patie p where p.Id == imgstd.PATIENT\")\n",
        "pat_imgstd.show()"
      ],
      "execution_count": null,
      "outputs": [
        {
          "output_type": "stream",
          "name": "stdout",
          "text": [
            "+--------------------+--------------------+\n",
            "|                  Id|BODYSITE_DESCRIPTION|\n",
            "+--------------------+--------------------+\n",
            "|231a2cb1-0ebe-dc1...|               Chest|\n",
            "|a48808e4-6d82-a34...|               Chest|\n",
            "|f7be139e-db02-e25...|               Wrist|\n",
            "|c2d5edb6-c0fb-584...|                 Arm|\n",
            "|c50b03b3-5933-89a...|              Pelvis|\n",
            "|fab37d10-f152-309...|                 Arm|\n",
            "|235eeab6-822b-ca6...|Heart structure (...|\n",
            "|235eeab6-822b-ca6...|Heart structure (...|\n",
            "|235eeab6-822b-ca6...|Thoracic structur...|\n",
            "|235eeab6-822b-ca6...|Heart structure (...|\n",
            "|235eeab6-822b-ca6...|Thoracic structur...|\n",
            "|235eeab6-822b-ca6...|Heart structure (...|\n",
            "|235eeab6-822b-ca6...|Heart structure (...|\n",
            "|235eeab6-822b-ca6...|                Knee|\n",
            "|235eeab6-822b-ca6...|Thoracic structur...|\n",
            "|235eeab6-822b-ca6...|Heart structure (...|\n",
            "|a66cc082-0eb8-09d...|               Chest|\n",
            "|e363961e-e69e-66d...|                 Arm|\n",
            "|99397bcd-e5b3-ac8...|                 Arm|\n",
            "|9884917a-373d-9c7...|                Knee|\n",
            "+--------------------+--------------------+\n",
            "only showing top 20 rows\n",
            "\n"
          ]
        }
      ]
    },
    {
      "cell_type": "code",
      "metadata": {
        "id": "5HDCpgy-oMLu"
      },
      "source": [
        "#immunizations\n",
        "#pat_imgstd = spark.sql(\"select p.Id, imgstd.BODYSITE_DESCRIPTION from imging_studi imgstd, patie p where p.Id == imgstd.PATIENT\")\n",
        "#pat_imgstd.show()"
      ],
      "execution_count": null,
      "outputs": []
    },
    {
      "cell_type": "code",
      "metadata": {
        "id": "rQkDQWJuqs8B"
      },
      "source": [
        "#medications\n",
        "#pat_imgstd = spark.sql(\"select p.Id, imgstd.BODYSITE_DESCRIPTION from imging_studi imgstd, patie p where p.Id == imgstd.PATIENT\")\n",
        "#pat_imgstd.show()"
      ],
      "execution_count": null,
      "outputs": []
    },
    {
      "cell_type": "code",
      "metadata": {
        "colab": {
          "base_uri": "https://localhost:8080/"
        },
        "id": "mUKvyHI0q_yw",
        "outputId": "f44aaaa9-e22f-4b7c-b596-17b3019c0dc7"
      },
      "source": [
        "#observations\n",
        "pat_obs = spark.sql(\"select p.Id, obs.DESCRIPTION from observati obs, patie p where p.Id == obs.PATIENT\")\n",
        "pat_obs.show()"
      ],
      "execution_count": null,
      "outputs": [
        {
          "output_type": "stream",
          "name": "stdout",
          "text": [
            "+--------------------+--------------------+\n",
            "|                  Id|         DESCRIPTION|\n",
            "+--------------------+--------------------+\n",
            "|231a2cb1-0ebe-dc1...|         Body Height|\n",
            "|231a2cb1-0ebe-dc1...|Pain severity - 0...|\n",
            "|231a2cb1-0ebe-dc1...|         Body Weight|\n",
            "|231a2cb1-0ebe-dc1...|     Body Mass Index|\n",
            "|231a2cb1-0ebe-dc1...|Body mass index (...|\n",
            "|231a2cb1-0ebe-dc1...|Diastolic Blood P...|\n",
            "|231a2cb1-0ebe-dc1...|Systolic Blood Pr...|\n",
            "|231a2cb1-0ebe-dc1...|          Heart rate|\n",
            "|231a2cb1-0ebe-dc1...|    Respiratory rate|\n",
            "|231a2cb1-0ebe-dc1...|Tobacco smoking s...|\n",
            "|231a2cb1-0ebe-dc1...|In the past year ...|\n",
            "|231a2cb1-0ebe-dc1...|Do you feel physi...|\n",
            "|231a2cb1-0ebe-dc1...|  Are you a refugee?|\n",
            "|231a2cb1-0ebe-dc1...|In the past year ...|\n",
            "|231a2cb1-0ebe-dc1...|Stress is when so...|\n",
            "|231a2cb1-0ebe-dc1...|How often do you ...|\n",
            "|231a2cb1-0ebe-dc1...|Has lack of trans...|\n",
            "|231a2cb1-0ebe-dc1...|In the past year ...|\n",
            "|231a2cb1-0ebe-dc1...|During the past y...|\n",
            "|231a2cb1-0ebe-dc1...|What is your main...|\n",
            "+--------------------+--------------------+\n",
            "only showing top 20 rows\n",
            "\n"
          ]
        }
      ]
    },
    {
      "cell_type": "code",
      "metadata": {
        "id": "3npL_Er8q_oe"
      },
      "source": [
        "#organization\n",
        "#it contain no Patient Foreign key"
      ],
      "execution_count": null,
      "outputs": []
    },
    {
      "cell_type": "code",
      "metadata": {
        "id": "q8RDbKdMq_dQ"
      },
      "source": [
        "#payer_transitions\n",
        "#it contain no related data for Common Disease Pattern"
      ],
      "execution_count": null,
      "outputs": []
    },
    {
      "cell_type": "code",
      "metadata": {
        "id": "lST7cM6yq_UJ"
      },
      "source": [
        "#payers\n",
        "#it contian not related data for Common Disease Pattern "
      ],
      "execution_count": null,
      "outputs": []
    },
    {
      "cell_type": "code",
      "metadata": {
        "colab": {
          "base_uri": "https://localhost:8080/"
        },
        "id": "dwgkj2yYq_NK",
        "outputId": "bb62b6ea-00b5-45e9-8d4a-e7a035d2ec51"
      },
      "source": [
        "#procedures\n",
        "pat_proc = spark.sql(\"select p.Id, proc.DESCRIPTION from procedu proc, patie p where p.Id == proc.PATIENT\")\n",
        "pat_proc.show()"
      ],
      "execution_count": null,
      "outputs": [
        {
          "output_type": "stream",
          "name": "stdout",
          "text": [
            "+--------------------+--------------------+\n",
            "|                  Id|         DESCRIPTION|\n",
            "+--------------------+--------------------+\n",
            "|231a2cb1-0ebe-dc1...|Assessment of hea...|\n",
            "|231a2cb1-0ebe-dc1...|Depression screen...|\n",
            "|231a2cb1-0ebe-dc1...|Depression screen...|\n",
            "|231a2cb1-0ebe-dc1...|Assessment of sub...|\n",
            "|231a2cb1-0ebe-dc1...|Assessment using ...|\n",
            "|231a2cb1-0ebe-dc1...|Assessment of hea...|\n",
            "|231a2cb1-0ebe-dc1...|Medication Reconc...|\n",
            "|231a2cb1-0ebe-dc1...|Assessment of anx...|\n",
            "|231a2cb1-0ebe-dc1...|Depression screen...|\n",
            "|231a2cb1-0ebe-dc1...|Depression screen...|\n",
            "|231a2cb1-0ebe-dc1...|Assessment of sub...|\n",
            "|231a2cb1-0ebe-dc1...|Assessment using ...|\n",
            "|34c9600a-6f70-b55...|Medication Reconc...|\n",
            "|231a2cb1-0ebe-dc1...|         Chest X-ray|\n",
            "|231a2cb1-0ebe-dc1...| Bone immobilization|\n",
            "|231a2cb1-0ebe-dc1...|Assessment of hea...|\n",
            "|231a2cb1-0ebe-dc1...|Medication Reconc...|\n",
            "|231a2cb1-0ebe-dc1...|Depression screen...|\n",
            "|231a2cb1-0ebe-dc1...|Depression screen...|\n",
            "|231a2cb1-0ebe-dc1...|Assessment of hea...|\n",
            "+--------------------+--------------------+\n",
            "only showing top 20 rows\n",
            "\n"
          ]
        }
      ]
    },
    {
      "cell_type": "code",
      "metadata": {
        "id": "lsL-ufXuq_Db"
      },
      "source": [
        "#providers\n",
        "#it does not contain patient foreign key"
      ],
      "execution_count": null,
      "outputs": []
    },
    {
      "cell_type": "code",
      "metadata": {
        "id": "x3KzlLg5qspU"
      },
      "source": [
        "#supplies\n",
        "#it contains the description of supplies for treatment "
      ],
      "execution_count": null,
      "outputs": []
    },
    {
      "cell_type": "code",
      "metadata": {
        "id": "7WLony0jO4We",
        "colab": {
          "base_uri": "https://localhost:8080/"
        },
        "outputId": "2674044a-c451-485a-922d-0d8cbf78f3c2"
      },
      "source": [
        "pat_proc.count()"
      ],
      "execution_count": null,
      "outputs": [
        {
          "output_type": "execute_result",
          "data": {
            "text/plain": [
              "472490"
            ]
          },
          "metadata": {},
          "execution_count": 25
        }
      ]
    }
  ]
}