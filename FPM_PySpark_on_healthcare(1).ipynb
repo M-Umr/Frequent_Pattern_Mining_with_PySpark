{
  "nbformat": 4,
  "nbformat_minor": 0,
  "metadata": {
    "colab": {
      "name": "FPM_PySpark_on_healthcare.ipynb",
      "private_outputs": true,
      "provenance": [],
      "collapsed_sections": []
    },
    "kernelspec": {
      "name": "python3",
      "display_name": "Python 3"
    },
    "language_info": {
      "name": "python"
    },
    "accelerator": "TPU"
  },
  "cells": [
    {
      "cell_type": "code",
      "metadata": {
        "id": "aq3kc2sO1NR6"
      },
      "source": [
        "!pip install pyspark\n",
        "!pip install -q findspark\n",
        "!pip install pyspark-stubs\n",
        "#!pip install pyfpgrowth\n",
        "#!pip3 install mlxtend --user\n",
        "#%pip install mlxtend --upgrade\n",
        "# innstall java\n",
        "#apt-get install openjdk-8-jdk-headless -qq > /dev/null \n",
        "#install spark (change the version number if needed)\n",
        "#wget -q https://archive.apache.org/dist/spark/spark-3.0.0/spark-3.0.0-bin-hadoop3.2.tgz \n",
        "#unzip the spark file to the current folder\n",
        "#!tar xf spark-3.0.0-bin-hadoop3.2.tgz\n",
        "!pip install -q findspark\n",
        "#!pip install sklearn"
      ],
      "execution_count": null,
      "outputs": []
    },
    {
      "cell_type": "code",
      "metadata": {
        "id": "R6ajeeAt13Zm"
      },
      "source": [
        "import pandas as pd\n",
        "import collections, numpy as np\n",
        "import matplotlib.pyplot as plt\n",
        "from collections import Counter\n",
        "%matplotlib inline"
      ],
      "execution_count": null,
      "outputs": []
    },
    {
      "cell_type": "code",
      "metadata": {
        "id": "fgbIPWc84eaT"
      },
      "source": [
        "from pyspark.ml.fpm import FPGrowth\n",
        "from pyspark.ml.fpm import PrefixSpan\n",
        "# $example off$\n",
        "from pyspark.sql import SparkSession,Row\n",
        "from pyspark.sql.types import *\n",
        "from pyspark.sql.functions import collect_set, col, count,explode,collect_list\n",
        "#import pyspark.sql.functions as F"
      ],
      "execution_count": null,
      "outputs": []
    },
    {
      "cell_type": "code",
      "metadata": {
        "id": "q0h_VfBa13UT"
      },
      "source": [
        "from google.colab import drive\n",
        "drive.mount('/content/drive')"
      ],
      "execution_count": null,
      "outputs": []
    },
    {
      "cell_type": "code",
      "metadata": {
        "id": "dWrlEsRf4do0"
      },
      "source": [
        "spark = SparkSession\\\n",
        ".builder\\\n",
        ".appName(\"FPGrowthExample\")\\\n",
        ".getOrCreate()"
      ],
      "execution_count": null,
      "outputs": []
    },
    {
      "cell_type": "code",
      "metadata": {
        "id": "xu0PSbRy13Pb"
      },
      "source": [
        "allergy = \"/content/drive/MyDrive/Deep Learning/Frequent Pattern Mining/allergies.csv\"\n",
        "careplans = \"/content/drive/MyDrive/Deep Learning/Frequent Pattern Mining/careplans.csv\"\n",
        "claims = \"/content/drive/MyDrive/Deep Learning/Frequent Pattern Mining/claims.csv\"\n",
        "devices = \"/content/drive/MyDrive/Deep Learning/Frequent Pattern Mining/devices.csv\"\n",
        "encounters = \"/content/drive/MyDrive/Deep Learning/Frequent Pattern Mining/encounters.csv\"\n",
        "imaging_studies = \"/content/drive/MyDrive/Deep Learning/Frequent Pattern Mining/imaging_studies.csv\"\n",
        "immunuzation = \"/content/drive/MyDrive/Deep Learning/Frequent Pattern Mining/immunizations.csv\"\n",
        "medication = \"/content/drive/MyDrive/Deep Learning/Frequent Pattern Mining/medications.csv\"\n",
        "observation = \"/content/drive/MyDrive/Deep Learning/Frequent Pattern Mining/observations.csv\"\n",
        "organization = \"/content/drive/MyDrive/Deep Learning/Frequent Pattern Mining/organizations.csv\"\n",
        "patinet = \"/content/drive/MyDrive/Deep Learning/Frequent Pattern Mining/patients.csv\"\n",
        "payer_transaction = \"/content/drive/MyDrive/Deep Learning/Frequent Pattern Mining/payer_transitions.csv\"\n",
        "payers = \"/content/drive/MyDrive/Deep Learning/Frequent Pattern Mining/payers.csv\"\n",
        "procedure = \"/content/drive/MyDrive/Deep Learning/Frequent Pattern Mining/procedures.csv\"\n",
        "providers = \"/content/drive/MyDrive/Deep Learning/Frequent Pattern Mining/providers.csv\"\n",
        "supplies = \"/content/drive/MyDrive/Deep Learning/Frequent Pattern Mining/supplies.csv\"\n",
        "claim_transaction = \"/content/drive/MyDrive/Deep Learning/Frequent Pattern Mining/claims_transactions.csv\"\n",
        "condition = \"/content/drive/MyDrive/Deep Learning/Frequent Pattern Mining/conditions.csv\""
      ],
      "execution_count": null,
      "outputs": []
    },
    {
      "cell_type": "code",
      "metadata": {
        "id": "zrMTYLdrIc7C"
      },
      "source": [
        "allergy = pd.read_csv(allergy)\n",
        "careplans = pd.read_csv(careplans)\n",
        "claims = pd.read_csv(claims)\n",
        "devices = pd.read_csv(devices)\n",
        "encounters = pd.read_csv(encounters)\n",
        "imaging_studies = pd.read_csv(imaging_studies)\n",
        "immunuzation = pd.read_csv(immunuzation)\n",
        "medication = pd.read_csv(medication)\n",
        "observation = pd.read_csv(observation)\n",
        "organization = pd.read_csv(organization)\n",
        "patient = pd.read_csv(patinet)\n",
        "payer_transaction = pd.read_csv(payer_transaction)\n",
        "payers = pd.read_csv(payers)\n",
        "procedure = pd.read_csv(procedure)\n",
        "providers = pd.read_csv(providers)\n",
        "supplies = pd.read_csv(supplies)\n",
        "claim_transaction = pd.read_csv(claim_transaction)\n",
        "condition = pd.read_csv(condition)"
      ],
      "execution_count": null,
      "outputs": []
    },
    {
      "cell_type": "code",
      "metadata": {
        "id": "cxFoId0yNgRH"
      },
      "source": [
        "allergy.head()\n",
        "print(encounters.head())\n",
        "#patinet = patinet.select(\"*\").toPandas()\n",
        "claims.head()"
      ],
      "execution_count": null,
      "outputs": []
    },
    {
      "cell_type": "code",
      "metadata": {
        "id": "UICwdKi-J3kt"
      },
      "source": [
        "alg_pat = pd.merge(allergy, patient, left_on=\"PATIENT\", right_on=\"Id\")\n",
        "print(alg_pat.columns)\n",
        "print(len(alg_pat['Id'].unique()),\" | \",alg_pat.shape)"
      ],
      "execution_count": null,
      "outputs": []
    },
    {
      "cell_type": "code",
      "metadata": {
        "id": "Wa4Ss2Ca12xv"
      },
      "source": [
        "enco_alg_pat = pd.merge(encounters, alg_pat, left_on=\"PATIENT\", right_on=\"Id\")\n",
        "print(enco_alg_pat.columns)\n",
        "print(len(enco_alg_pat['Id_y'].unique()),\" | \",enco_alg_pat.shape)"
      ],
      "execution_count": null,
      "outputs": []
    },
    {
      "cell_type": "code",
      "metadata": {
        "id": "vWf9nuGQ12uf"
      },
      "source": [
        "enco_alg_pat_prov = pd.merge(enco_alg_pat,providers, left_on=\"PROVIDER\", right_on=\"Id\")\n",
        "enco_alg_pat_prov.columns"
      ],
      "execution_count": null,
      "outputs": []
    },
    {
      "cell_type": "code",
      "metadata": {
        "id": "C3cCbql1Ld51"
      },
      "source": [
        "print(len(enco_alg_pat_prov['Id_y'].unique()),\" | \",enco_alg_pat_prov.shape)"
      ],
      "execution_count": null,
      "outputs": []
    },
    {
      "cell_type": "code",
      "metadata": {
        "id": "3-YG3Hz912q2"
      },
      "source": [
        "enco_alg_pat_prov_carpln = pd.merge(enco_alg_pat_prov,careplans, left_on=\"Id_y\",right_on=\"PATIENT\")\n",
        "print(enco_alg_pat_prov_carpln.columns)"
      ],
      "execution_count": null,
      "outputs": []
    },
    {
      "cell_type": "code",
      "metadata": {
        "id": "tJ3IGhKFWuMk"
      },
      "source": [
        "df_columns = enco_alg_pat_prov_carpln.columns.values.tolist()\n",
        "print(df_columns)\n",
        "column_dup = [k for k,v in Counter(df_columns).items() if v > 1]\n",
        "print(column_dup)"
      ],
      "execution_count": null,
      "outputs": []
    },
    {
      "cell_type": "code",
      "metadata": {
        "id": "K3z1V_g112nQ"
      },
      "source": [
        "enco_alg_pat_prov_carpln.set_axis(['Id_w', 'START_x', 'STOP_x', 'PATIENT_x', 'ORGANIZATION_x', 'PROVIDER',\n",
        "                                   'PAYER', 'ENCOUNTERCLASS', 'CODE_x', 'DESCRIPTION_x',\n",
        "                                   'BASE_ENCOUNTER_COST', 'TOTAL_CLAIM_COST', 'PAYER_COVERAGE',\n",
        "                                   'REASONCODE_x', 'REASONDESCRIPTION_x', 'START_y', 'STOP_y', 'PATIENT_y',\n",
        "                                   'ENCOUNTER_x', 'CODE_y', 'SYSTEM', 'DESCRIPTION_y', 'TYPE', 'CATEGORY',\n",
        "                                   'REACTION1', 'DESCRIPTION1', 'SEVERITY1', 'REACTION2', 'DESCRIPTION2',\n",
        "                                   'SEVERITY2', 'Id_y', 'BIRTHDATE', 'DEATHDATE', 'SSN', 'DRIVERS',\n",
        "                                   'PASSPORT', 'PREFIX', 'FIRST', 'LAST', 'SUFFIX', 'MAIDEN', 'MARITAL',\n",
        "                                   'RACE', 'ETHNICITY', 'GENDER_x', 'BIRTHPLACE', 'ADDRESS_x', 'CITY_x',\n",
        "                                   'STATE_x', 'COUNTY', 'ZIP_x', 'LAT_x', 'LON_x', 'HEALTHCARE_EXPENSES',\n",
        "                                   'HEALTHCARE_COVERAGE', 'Id_x', 'ORGANIZATION_y', 'NAME', 'GENDER_y',\n",
        "                                   'SPECIALITY', 'ADDRESS_y', 'CITY_y', 'STATE_y', 'ZIP_y', 'LAT_y',\n",
        "                                   'LON_y', 'UTILIZATION', 'Id_z', 'START', 'STOP', 'PATIENT',\n",
        "                                   'ENCOUNTER_y', 'CODE', 'DESCRIPTION', 'REASONCODE_y','REASONDESCRIPTION_y'], axis=1, inplace=True)\n",
        "enco_alg_pat_prov_carpln.columns"
      ],
      "execution_count": null,
      "outputs": []
    },
    {
      "cell_type": "code",
      "metadata": {
        "id": "9pvmOtjcRAnW"
      },
      "source": [
        "print(enco_alg_pat_prov_carpln.columns)"
      ],
      "execution_count": null,
      "outputs": []
    },
    {
      "cell_type": "code",
      "metadata": {
        "id": "L8XP1Z0a12if"
      },
      "source": [
        "print(len(enco_alg_pat_prov_carpln['Id_y'].unique()),\" | \",enco_alg_pat_prov_carpln.shape)"
      ],
      "execution_count": null,
      "outputs": []
    },
    {
      "cell_type": "code",
      "metadata": {
        "id": "7Y_GLcgG12gZ"
      },
      "source": [
        "enco_alg_pat_prov_carpln_claim = pd.merge(enco_alg_pat_prov_carpln,claims, left_on=\"Id_y\",right_on=\"PATIENTID\")\n",
        "print(enco_alg_pat_prov_carpln_claim.columns)"
      ],
      "execution_count": null,
      "outputs": []
    },
    {
      "cell_type": "code",
      "metadata": {
        "id": "rMQ8Lb5f12ck"
      },
      "source": [
        "df_columns = enco_alg_pat_prov_carpln.columns.values.tolist()\n",
        "print(df_columns)\n",
        "column_dup = [k for k,v in Counter(df_columns).items() if v > 1]\n",
        "print(column_dup)"
      ],
      "execution_count": null,
      "outputs": []
    },
    {
      "cell_type": "code",
      "metadata": {
        "id": "Z6xc9EA312Xk"
      },
      "source": [
        ""
      ],
      "execution_count": null,
      "outputs": []
    },
    {
      "cell_type": "code",
      "metadata": {
        "id": "8fX7i3Kd12VY"
      },
      "source": [
        "from pyspark.ml.fpm import FPGrowth\n",
        "from pyspark.ml.fpm import PrefixSpan\n",
        "# $example off$\n",
        "from pyspark.sql import SparkSession,Row\n",
        "from pyspark.sql.types import *\n",
        "from pyspark.sql.functions import collect_set, col, count,explode,collect_list\n",
        "#import pyspark.sql.functions as F"
      ],
      "execution_count": null,
      "outputs": []
    },
    {
      "cell_type": "code",
      "metadata": {
        "id": "rDjffmcL12Rv"
      },
      "source": [
        "spark = SparkSession\\\n",
        ".builder\\\n",
        ".appName(\"FPGrowthExample\")\\\n",
        ".getOrCreate()"
      ],
      "execution_count": null,
      "outputs": []
    },
    {
      "cell_type": "code",
      "metadata": {
        "id": "c11qA8i3CWkU"
      },
      "source": [
        "allergy = \"/content/drive/MyDrive/Deep Learning/Frequent Pattern Mining/allergies.csv\"\n",
        "careplans = \"/content/drive/MyDrive/Deep Learning/Frequent Pattern Mining/careplans.csv\"\n",
        "claims = \"/content/drive/MyDrive/Deep Learning/Frequent Pattern Mining/claims.csv\"\n",
        "devices = \"/content/drive/MyDrive/Deep Learning/Frequent Pattern Mining/devices.csv\"\n",
        "encounters = \"/content/drive/MyDrive/Deep Learning/Frequent Pattern Mining/encounters.csv\"\n",
        "imaging_studies = \"/content/drive/MyDrive/Deep Learning/Frequent Pattern Mining/imaging_studies.csv\"\n",
        "immunuzation = \"/content/drive/MyDrive/Deep Learning/Frequent Pattern Mining/immunizations.csv\"\n",
        "medication = \"/content/drive/MyDrive/Deep Learning/Frequent Pattern Mining/medications.csv\"\n",
        "observation = \"/content/drive/MyDrive/Deep Learning/Frequent Pattern Mining/observations.csv\"\n",
        "organization = \"/content/drive/MyDrive/Deep Learning/Frequent Pattern Mining/organizations.csv\"\n",
        "patinet = \"/content/drive/MyDrive/Deep Learning/Frequent Pattern Mining/patients.csv\"\n",
        "payer_transaction = \"/content/drive/MyDrive/Deep Learning/Frequent Pattern Mining/payer_transitions.csv\"\n",
        "payers = \"/content/drive/MyDrive/Deep Learning/Frequent Pattern Mining/payers.csv\"\n",
        "procedure = \"/content/drive/MyDrive/Deep Learning/Frequent Pattern Mining/procedures.csv\"\n",
        "providers = \"/content/drive/MyDrive/Deep Learning/Frequent Pattern Mining/providers.csv\"\n",
        "supplies = \"/content/drive/MyDrive/Deep Learning/Frequent Pattern Mining/supplies.csv\"\n",
        "claim_transaction = \"/content/drive/MyDrive/Deep Learning/Frequent Pattern Mining/claims_transactions.csv\"\n",
        "condition = \"/content/drive/MyDrive/Deep Learning/Frequent Pattern Mining/conditions.csv\""
      ],
      "execution_count": null,
      "outputs": []
    },
    {
      "cell_type": "code",
      "metadata": {
        "id": "4w46D5zlCWOc"
      },
      "source": [
        "allerg = (spark.read.format(\"csv\").options(header=\"true\").option(\"inferSchema\",\"true\").load(allergy))\n",
        "careplan = (spark.read.format(\"csv\").options(header=\"true\").option(\"inferSchema\",\"true\").load(careplans))\n",
        "claim = (spark.read.format(\"csv\").options(header=\"true\").option(\"inferSchema\",\"true\").load(claims))\n",
        "device = (spark.read.format(\"csv\").options(header=\"true\").option(\"inferSchema\",\"true\").load(devices))\n",
        "encounter = (spark.read.format(\"csv\").options(header=\"true\").option(\"inferSchema\",\"true\").load(encounters))\n",
        "imaging_studie = (spark.read.format(\"csv\").options(header=\"true\").option(\"inferSchema\",\"true\").load(imaging_studies))\n",
        "immunuzatio = (spark.read.format(\"csv\").options(header=\"true\").option(\"inferSchema\",\"true\").load(immunuzation))\n",
        "medicatio = (spark.read.format(\"csv\").options(header=\"true\").option(\"inferSchema\",\"true\").load(medication))\n",
        "observatio = (spark.read.format(\"csv\").options(header=\"true\").option(\"inferSchema\",\"true\").load(observation))\n",
        "organizatio = (spark.read.format(\"csv\").options(header=\"true\").option(\"inferSchema\",\"true\").load(organization))\n",
        "patien = (spark.read.format(\"csv\").options(header=\"true\").option(\"inferSchema\",\"true\").load(patinet))\n",
        "payer_transactio = (spark.read.format(\"csv\").options(header=\"true\").option(\"inferSchema\",\"true\").load(payer_transaction))\n",
        "payer = (spark.read.format(\"csv\").options(header=\"true\").option(\"inferSchema\",\"true\").load(payers))\n",
        "procedur = (spark.read.format(\"csv\").options(header=\"true\").option(\"inferSchema\",\"true\").load(procedure))\n",
        "provider = (spark.read.format(\"csv\").options(header=\"true\").option(\"inferSchema\",\"true\").load(providers))\n",
        "supplie = (spark.read.format(\"csv\").options(header=\"true\").option(\"inferSchema\",\"true\").load(supplies))\n",
        "claim_transactio = (spark.read.format(\"csv\").options(header=\"true\").option(\"inferSchema\",\"true\").load(claim_transaction))\n",
        "conditio = (spark.read.format(\"csv\").options(header=\"true\").option(\"inferSchema\",\"true\").load(condition))"
      ],
      "execution_count": null,
      "outputs": []
    },
    {
      "cell_type": "code",
      "metadata": {
        "id": "AX5cWGzKCV8f"
      },
      "source": [
        "allerg.createOrReplaceTempView(\"aller\")\n",
        "careplan.createOrReplaceTempView(\"carepla\")\n",
        "claim.createOrReplaceTempView(\"clai\")\n",
        "device.createOrReplaceTempView(\"devic\")\n",
        "encounter.createOrReplaceTempView(\"encounte\")\n",
        "imaging_studie.createOrReplaceTempView(\"imging_studi\")\n",
        "immunuzatio.createOrReplaceTempView(\"immunizati\")\n",
        "medicatio.createOrReplaceTempView(\"medicati\")\n",
        "observatio.createOrReplaceTempView(\"observati\")\n",
        "organizatio.createOrReplaceTempView(\"organizati\")\n",
        "patien.createOrReplaceTempView(\"patie\")\n",
        "payer_transactio.createOrReplaceTempView(\"payer_transacti\")\n",
        "payer.createOrReplaceTempView(\"paye\")\n",
        "procedur.createOrReplaceTempView(\"procedu\")\n",
        "provider.createOrReplaceTempView(\"provide\")\n",
        "supplie.createOrReplaceTempView(\"suppli\")\n",
        "claim_transactio.createOrReplaceTempView(\"claim_transacti\")\n",
        "conditio.createOrReplaceTempView(\"conditi\")"
      ],
      "execution_count": null,
      "outputs": []
    },
    {
      "cell_type": "code",
      "metadata": {
        "id": "KvD208T8CVri"
      },
      "source": [
        "pat_data1 = spark.sql(\"select patie.Id, encounte.ENCOUNTERCLASS,encounte.TOTAL_CLAIM_COST from encounte, patie where patie.Id == encounte.PATIENT\")\n",
        "#print(pat_data)\n",
        "print(pat_data1.schema.names)\n",
        "print()\n",
        "print(pat_data1.show())"
      ],
      "execution_count": null,
      "outputs": []
    },
    {
      "cell_type": "code",
      "metadata": {
        "id": "Zw0Rzqm-12OQ"
      },
      "source": [
        "pat1 = (spark.read.format(\"csv\").options(header=\"true\").option(\"inferSchema\",\"true\").load(\"/content/drive/MyDrive/Deep Learning/Frequent Pattern Mining/patients.csv\"))\n",
        "#pat1 = spark.read.csv(\"/content/drive/MyDrive/Deep Learning/Frequent Pattern Mining/patients.csv\", header=True, inferSchema=True)\n",
        "pat1.createOrReplaceTempView(\"patient\")\n",
        "pat1.printSchema()\n",
        "#pat1.columns\n"
      ],
      "execution_count": null,
      "outputs": []
    },
    {
      "cell_type": "code",
      "metadata": {
        "id": "nbq4J0fd12J1"
      },
      "source": [
        "enco1 = (spark.read.format(\"csv\").options(header=\"true\").option(\"inferSchema\",\"true\").load(\"/content/drive/MyDrive/Deep Learning/Frequent Pattern Mining/encounters.csv\"))\n",
        "#pat1 = spark.read.csv(\"/content/drive/MyDrive/Deep Learning/Frequent Pattern Mining/patients.csv\", header=True, inferSchema=True)\n",
        "enco1.createOrReplaceTempView(\"encounter\")\n",
        "print(enco1.printSchema())\n",
        "print(enco1.show())\n",
        "#pat1.columns"
      ],
      "execution_count": null,
      "outputs": []
    },
    {
      "cell_type": "code",
      "metadata": {
        "id": "j4d6BlQ312D0"
      },
      "source": [
        "#enco_pat = pd.merge(enco, pat, left_on=\"PATIENT\", right_on=\"Id\")\n",
        "enco1_pat1 = enco1.join(pat1,enco1.PATIENT ==  pat1.Id, \"inner\")\n",
        "enco1_pat1.show(30)\n",
        "enco1_pat1.count()"
      ],
      "execution_count": null,
      "outputs": []
    },
    {
      "cell_type": "code",
      "metadata": {
        "id": "i4MLd9VuCrJ3"
      },
      "source": [
        "#enco1 = (spark.read.format(\"csv\").options(header=\"true\").load(\"\"))\n",
        "#enco1 = spark.read.csv(\"/content/drive/MyDrive/Deep Learning/Frequent Pattern Mining/encounters.csv\", header=True, inferSchema=True)\n",
        "#enco1 = spark.createDataFrame(enco1)\n",
        "#enco1 = enco1.select(explode(\"COUNTERCLASS\").alias(\"c\"))\n",
        "#print(enco1.createOrReplaceTempView(\"encounter\"))\n",
        "#enco1.columns\n"
      ],
      "execution_count": null,
      "outputs": []
    },
    {
      "cell_type": "code",
      "metadata": {
        "id": "9wvJi2M8Cq4x"
      },
      "source": [
        "\n",
        "#rawData = spark.sql(\"select p.product_name, o.order_id from products p inner join order_products_train o where o.product_id = p.product_id\")\n",
        "\n",
        "pat_data = spark.sql(\"select p.Id, e.ENCOUNTERCLASS,e.TOTAL_CLAIM_COST from encounter e , patient p where p.Id == e.PATIENT\")\n",
        "#print(pat_data)\n",
        "print(pat_data.schema.names)\n",
        "#print(pat_data.printSchema())\n",
        "#pat_class_schema = pat_data.groupBy('Id').agg(collect_set('ENCOUNTERCLASS').alias('items'))\n",
        "print(pat_data.show())\n",
        "pat_data.count()"
      ],
      "execution_count": null,
      "outputs": []
    },
    {
      "cell_type": "code",
      "metadata": {
        "id": "R1YqeFX3CypK"
      },
      "source": [
        "pat1_class1 = pat_data.groupBy('Id').agg(collect_list(\"TOTAL_CLAIM_COST\").alias('items1'),collect_list(\"ENCOUNTERCLASS\").alias('items2'))\n",
        "pat1_class1.createOrReplaceTempView('class1')\n",
        "print(pat1_class1.count())\n",
        "pat1_class1.show()"
      ],
      "execution_count": null,
      "outputs": []
    },
    {
      "cell_type": "code",
      "metadata": {
        "id": "NPiTb6WNCyQ-"
      },
      "source": [
        "pat_dataDF = pat_data.select(\"*\").toPandas()\n",
        "print(pat_dataDF['TOTAL_CLAIM_COST'].isna().sum() )\n",
        "class1DF = pat1_class1.select(\"*\").toPandas()\n",
        "print(class1DF['items1'].isna().sum() )"
      ],
      "execution_count": null,
      "outputs": []
    },
    {
      "cell_type": "code",
      "metadata": {
        "id": "lNgrbO3ACyA1"
      },
      "source": [
        "pat1_class2 = pat_data.groupBy('Id').agg(collect_set('ENCOUNTERCLASS').alias('items'))\n",
        "pat1_class2.createOrReplaceTempView('class2')\n",
        "print(pat1_class2.count())\n",
        "pat1_class2.show()"
      ],
      "execution_count": null,
      "outputs": []
    },
    {
      "cell_type": "code",
      "metadata": {
        "id": "mScRbbtuCxz7"
      },
      "source": [
        "pat1_class3 = pat_data.groupBy('Id').agg(collect_set('TOTAL_CLAIM_COST').alias('items'))\n",
        "pat1_class3.createOrReplaceTempView('class3')\n",
        "print(pat1_class3.count())\n",
        "pat1_class3.show()"
      ],
      "execution_count": null,
      "outputs": []
    },
    {
      "cell_type": "code",
      "metadata": {
        "id": "6hYRvSUKCqlq"
      },
      "source": [
        "#%scala\n",
        "%time\n",
        "from pyspark.ml.fpm import FPGrowth\n",
        "\n",
        "# Extract out the items \n",
        "class1_itemsDF = spark.sql(\"select items from class3\")#.as[Array[String]].toDF(\"items\")\n",
        "\n",
        "################# IT IS SHOWING PREDICTED DATA OF TOTAL_CLAIM_COST\n",
        "\n",
        "# Use FPGrowth\n",
        "fpGrowth = FPGrowth(itemsCol=\"items\", minSupport=0.006, minConfidence=0.006)\n",
        "model = fpGrowth.fit(class1_itemsDF)\n",
        "# Display frequent itemsets.\n",
        "model.freqItemsets.show()\n",
        "mostPopularPatClass = model.freqItemsets\n",
        "\n",
        "model.associationRules\n",
        "rules_TClaim_cost = model.associationRules\n",
        "rules_TClaim_cost.show()  #giving ERROR\n",
        "# transform examines the input items against all the association rules and summarize the\n",
        "# consequents as prediction\n",
        "model.transform(class1_itemsDF).show()\n",
        "rules_TClaim_cost.createOrReplaceTempView(\"rules_TClaim_cost_table\")"
      ],
      "execution_count": null,
      "outputs": []
    },
    {
      "cell_type": "code",
      "metadata": {
        "id": "u4K4087sC_DX"
      },
      "source": [
        "#%scala\n",
        "%time\n",
        "from pyspark.ml.fpm import FPGrowth\n",
        "\n",
        "####################### IT IS SHOWING PREDICTED DATA OF ENCOUNTERCLASS\n",
        "\n",
        "# Extract out the items \n",
        "class1_itemsDF = spark.sql(\"select items from class2\")#.as[Array[String]].toDF(\"items\")\n",
        "\n",
        "# Use FPGrowth\n",
        "fpGrowth = FPGrowth(itemsCol=\"items\", minSupport=0.006, minConfidence=0.006)\n",
        "model = fpGrowth.fit(class1_itemsDF)\n",
        "# Display frequent itemsets.\n",
        "model.freqItemsets.show()\n",
        "mostPopularPatClass = model.freqItemsets\n",
        "\n",
        "model.associationRules\n",
        "rules_data = model.associationRules\n",
        "rules_data.show()  #giving ERROR\n",
        "# transform examines the input items against all the association rules and summarize the\n",
        "# consequents as prediction\n",
        "model.transform(class1_itemsDF)\n",
        "#rule.createOrReplaceTempView(\"rule_table\")"
      ],
      "execution_count": null,
      "outputs": []
    },
    {
      "cell_type": "code",
      "metadata": {
        "id": "zOs6LMeqC-zI"
      },
      "source": [
        "rulesDF = rules_data.select(\"*\").toPandas()\n",
        "rulesDF.head()"
      ],
      "execution_count": null,
      "outputs": []
    },
    {
      "cell_type": "code",
      "metadata": {
        "id": "dpWOjxmJC-gC"
      },
      "source": [
        "rulesDF[rulesDF[\"antecedent\"].apply(lambda x: \"urgentcare\" in str(x))].sort_values(ascending=False,by='lift')"
      ],
      "execution_count": null,
      "outputs": []
    },
    {
      "cell_type": "code",
      "metadata": {
        "id": "0GjGOuzZC-QI"
      },
      "source": [
        "rulesTC_cost = rules_TClaim_cost.select(\"*\").toPandas()\n",
        "rulesTC_cost.head()"
      ],
      "execution_count": null,
      "outputs": []
    },
    {
      "cell_type": "code",
      "metadata": {
        "id": "PeL7eDcdDHAD"
      },
      "source": [
        "rulesTC_cost[rulesTC_cost[\"antecedent\"].apply(lambda x: \"urgentcare\" in str(x))].sort_values(ascending=False,by='lift')"
      ],
      "execution_count": null,
      "outputs": []
    },
    {
      "cell_type": "code",
      "metadata": {
        "id": "t-ptWPIiDGt-"
      },
      "source": [
        ""
      ],
      "execution_count": null,
      "outputs": []
    },
    {
      "cell_type": "code",
      "metadata": {
        "id": "LHMvtlv-C9-e"
      },
      "source": [
        ""
      ],
      "execution_count": null,
      "outputs": []
    }
  ]
}